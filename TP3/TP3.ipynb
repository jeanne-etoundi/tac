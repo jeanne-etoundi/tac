{
 "cells": [
  {
   "cell_type": "markdown",
   "metadata": {},
   "source": [
    "# Clustering de documents"
   ]
  },
  {
   "cell_type": "markdown",
   "metadata": {},
   "source": [
    "# Clustering de documents"
   ]
  },
  {
   "cell_type": "markdown",
   "metadata": {},
   "source": [
    "## Imports"
   ]
  },
  {
   "cell_type": "code",
   "execution_count": 61,
   "metadata": {},
   "outputs": [],
   "source": [
    "import collections\n",
    "import os\n",
    "import string\n",
    "import sys\n",
    "\n",
    "import pandas as pd\n",
    "from nltk import word_tokenize\n",
    "from nltk.corpus import stopwords\n",
    "from pprint import pprint\n",
    "from sklearn.cluster import KMeans\n",
    "from sklearn.feature_extraction.text import TfidfVectorizer\n",
    "from sklearn.decomposition import PCA\n",
    "import numpy as np\n",
    "import matplotlib.pyplot as plt\n",
    "from scipy.spatial.distance import cosine"
   ]
  },
  {
   "cell_type": "code",
   "execution_count": 62,
   "metadata": {},
   "outputs": [
    {
     "name": "stderr",
     "output_type": "stream",
     "text": [
      "[nltk_data] Downloading package punkt to /root/nltk_data...\n",
      "[nltk_data]   Package punkt is already up-to-date!\n"
     ]
    },
    {
     "data": {
      "text/plain": [
       "True"
      ]
     },
     "execution_count": 62,
     "metadata": {},
     "output_type": "execute_result"
    }
   ],
   "source": [
    "import nltk\n",
    "\n",
    "nltk.download('punkt')"
   ]
  },
  {
   "cell_type": "code",
   "execution_count": 63,
   "metadata": {},
   "outputs": [],
   "source": [
    "data_path = \"../data/txt/\""
   ]
  },
  {
   "cell_type": "markdown",
   "metadata": {},
   "source": [
    "## Choisir une décennie"
   ]
  },
  {
   "cell_type": "code",
   "execution_count": 64,
   "metadata": {},
   "outputs": [],
   "source": [
    "DECADE = '1910'"
   ]
  },
  {
   "cell_type": "markdown",
   "metadata": {},
   "source": [
    "## Charger tous les  fichiers de la décennie et en créer une liste de textes"
   ]
  },
  {
   "cell_type": "code",
   "execution_count": 65,
   "metadata": {},
   "outputs": [],
   "source": [
    "files = [f for f in sorted(os.listdir(data_path)) if f\"_{DECADE[:-1]}\" in f]"
   ]
  },
  {
   "cell_type": "code",
   "execution_count": 66,
   "metadata": {},
   "outputs": [
    {
     "data": {
      "text/plain": [
       "['Bxl_1910_Tome_I1_Part_1.txt',\n",
       " 'Bxl_1910_Tome_I1_Part_2.txt',\n",
       " 'Bxl_1910_Tome_I1_Part_3.txt',\n",
       " 'Bxl_1910_Tome_I1_Part_4.txt',\n",
       " 'Bxl_1910_Tome_I1_Part_5.txt',\n",
       " 'Bxl_1910_Tome_I1_Part_6.txt',\n",
       " 'Bxl_1910_Tome_I1_Part_7.txt',\n",
       " 'Bxl_1910_Tome_I1_Part_8.txt',\n",
       " 'Bxl_1910_Tome_I2_1_Part_1.txt',\n",
       " 'Bxl_1910_Tome_I2_1_Part_10.txt',\n",
       " 'Bxl_1910_Tome_I2_1_Part_11.txt',\n",
       " 'Bxl_1910_Tome_I2_1_Part_12.txt',\n",
       " 'Bxl_1910_Tome_I2_1_Part_13.txt',\n",
       " 'Bxl_1910_Tome_I2_1_Part_2.txt',\n",
       " 'Bxl_1910_Tome_I2_1_Part_3.txt']"
      ]
     },
     "execution_count": 66,
     "metadata": {},
     "output_type": "execute_result"
    }
   ],
   "source": [
    "# Exemple de fichiers\n",
    "files[:15]"
   ]
  },
  {
   "cell_type": "code",
   "execution_count": 67,
   "metadata": {},
   "outputs": [],
   "source": [
    "texts = [open(data_path + f).read() for f in files]"
   ]
  },
  {
   "cell_type": "code",
   "execution_count": 68,
   "metadata": {},
   "outputs": [
    {
     "data": {
      "text/plain": [
       "'\\x0cV I L L E\\n\\nD E\\n\\nB R U X E L L E S .\\no\\n\\nBULLETIN COMMUNAL\\nA N N É E\\n\\nP R E M I È R E\\n\\nTOME\\n\\nC O M P '"
      ]
     },
     "execution_count": 68,
     "metadata": {},
     "output_type": "execute_result"
    }
   ],
   "source": [
    "# Exemple de textes\n",
    "texts[0][:100]"
   ]
  },
  {
   "cell_type": "markdown",
   "metadata": {},
   "source": [
    "## Vectoriser les documents à l'aide de TF-IDF"
   ]
  },
  {
   "cell_type": "code",
   "execution_count": 69,
   "metadata": {},
   "outputs": [],
   "source": [
    "# Création d'une fonction de pré-traitement\n",
    "def preprocessing(text, stem=True):\n",
    "    \"\"\" Tokenize text and remove punctuation \"\"\"\n",
    "    text = text.translate(string.punctuation)\n",
    "    tokens = word_tokenize(text)\n",
    "    return tokens"
   ]
  },
  {
   "cell_type": "markdown",
   "metadata": {},
   "source": [
    "### Instancier le modèle TF-IDF avec ses arguments"
   ]
  },
  {
   "cell_type": "code",
   "execution_count": 70,
   "metadata": {},
   "outputs": [],
   "source": [
    "vectorizer = TfidfVectorizer(\n",
    "    tokenizer=preprocessing,\n",
    "    stop_words=stopwords.words('french'),\n",
    "    max_df=0.5,\n",
    "    min_df=0.1,\n",
    "    lowercase=True)"
   ]
  },
  {
   "cell_type": "markdown",
   "metadata": {},
   "source": [
    "### Construire la matrice de vecteurs à l'aide de la fonction `fit_transform`"
   ]
  },
  {
   "cell_type": "code",
   "execution_count": 71,
   "metadata": {},
   "outputs": [
    {
     "name": "stdout",
     "output_type": "stream",
     "text": [
      "CPU times: user 1min 44s, sys: 104 ms, total: 1min 44s\n",
      "Wall time: 1min 44s\n"
     ]
    }
   ],
   "source": [
    "%time tfidf_vectors = vectorizer.fit_transform(texts)"
   ]
  },
  {
   "cell_type": "code",
   "execution_count": 72,
   "metadata": {},
   "outputs": [
    {
     "data": {
      "text/plain": [
       "<170x7097 sparse matrix of type '<class 'numpy.float64'>'\n",
       "\twith 252381 stored elements in Compressed Sparse Row format>"
      ]
     },
     "execution_count": 72,
     "metadata": {},
     "output_type": "execute_result"
    }
   ],
   "source": [
    "# Détail de la matrice\n",
    "tfidf_vectors"
   ]
  },
  {
   "cell_type": "markdown",
   "metadata": {},
   "source": [
    "### Imprimer le vecteur tf-IDF du premier document"
   ]
  },
  {
   "cell_type": "code",
   "execution_count": 73,
   "metadata": {},
   "outputs": [
    {
     "data": {
      "text/plain": [
       "enseignant          0.194609\n",
       "perfectionnement    0.160739\n",
       "theodor             0.151363\n",
       "l'honorable         0.140094\n",
       "sacrés              0.129844\n",
       "                      ...   \n",
       "dit-il              0.000000\n",
       "distribués          0.000000\n",
       "distribuées         0.000000\n",
       "distribué           0.000000\n",
       "™                   0.000000\n",
       "Length: 7097, dtype: float64"
      ]
     },
     "execution_count": 73,
     "metadata": {},
     "output_type": "execute_result"
    }
   ],
   "source": [
    "pd.Series(\n",
    "    tfidf_vectors[0].toarray()[0],\n",
    "    index=vectorizer.get_feature_names_out()\n",
    "    ).sort_values(ascending=False)"
   ]
  },
  {
   "cell_type": "markdown",
   "metadata": {},
   "source": [
    "## Comprendre les vecteurs et leurs \"distances\""
   ]
  },
  {
   "cell_type": "code",
   "execution_count": 74,
   "metadata": {},
   "outputs": [
    {
     "data": {
      "text/plain": [
       "0"
      ]
     },
     "execution_count": 74,
     "metadata": {},
     "output_type": "execute_result"
    }
   ],
   "source": [
    "cosine([1, 2, 3], [1, 2, 3])"
   ]
  },
  {
   "cell_type": "code",
   "execution_count": 75,
   "metadata": {},
   "outputs": [
    {
     "data": {
      "text/plain": [
       "0.02004211298777725"
      ]
     },
     "execution_count": 75,
     "metadata": {},
     "output_type": "execute_result"
    }
   ],
   "source": [
    "cosine([1, 2, 3], [1, 2, 2])"
   ]
  },
  {
   "cell_type": "code",
   "execution_count": 76,
   "metadata": {},
   "outputs": [
    {
     "data": {
      "text/plain": [
       "0.07417990022744858"
      ]
     },
     "execution_count": 76,
     "metadata": {},
     "output_type": "execute_result"
    }
   ],
   "source": [
    "cosine([1, 2, 3], [2, 2, 2])"
   ]
  },
  {
   "cell_type": "markdown",
   "metadata": {},
   "source": [
    "### Tests sur nos documents"
   ]
  },
  {
   "cell_type": "code",
   "execution_count": 77,
   "metadata": {},
   "outputs": [],
   "source": [
    "tfidf_array = tfidf_vectors.toarray()"
   ]
  },
  {
   "cell_type": "code",
   "execution_count": 78,
   "metadata": {},
   "outputs": [
    {
     "data": {
      "text/plain": [
       "array([0., 0., 0., ..., 0., 0., 0.])"
      ]
     },
     "execution_count": 78,
     "metadata": {},
     "output_type": "execute_result"
    }
   ],
   "source": [
    "# Vecteur du document 0\n",
    "tfidf_array[0]"
   ]
  },
  {
   "cell_type": "code",
   "execution_count": 79,
   "metadata": {},
   "outputs": [
    {
     "data": {
      "text/plain": [
       "array([0.        , 0.01001937, 0.        , ..., 0.        , 0.        ,\n",
       "       0.        ])"
      ]
     },
     "execution_count": 79,
     "metadata": {},
     "output_type": "execute_result"
    }
   ],
   "source": [
    "# Vecteur du document 1\n",
    "tfidf_array[1]"
   ]
  },
  {
   "cell_type": "code",
   "execution_count": 80,
   "metadata": {},
   "outputs": [
    {
     "data": {
      "text/plain": [
       "0.712899401391456"
      ]
     },
     "execution_count": 80,
     "metadata": {},
     "output_type": "execute_result"
    }
   ],
   "source": [
    "cosine(tfidf_array[0], tfidf_array[1])"
   ]
  },
  {
   "cell_type": "markdown",
   "metadata": {},
   "source": [
    "## Appliquer un algorithme de clustering sur les vecteurs TF-IDF des documents"
   ]
  },
  {
   "cell_type": "markdown",
   "metadata": {},
   "source": [
    "Pour en savoir plus sur le KMeans clustering :\n",
    "- https://medium.com/dataseries/k-means-clustering-explained-visually-in-5-minutes-b900cc69d175"
   ]
  },
  {
   "cell_type": "markdown",
   "metadata": {},
   "source": [
    "### Définir un nombre de clusters"
   ]
  },
  {
   "cell_type": "code",
   "execution_count": 97,
   "metadata": {},
   "outputs": [],
   "source": [
    "N_CLUSTERS = 3"
   ]
  },
  {
   "cell_type": "markdown",
   "metadata": {},
   "source": [
    "### Instancier le modèle K-Means et ses arguments"
   ]
  },
  {
   "cell_type": "code",
   "execution_count": 98,
   "metadata": {},
   "outputs": [],
   "source": [
    "km_model = KMeans(n_clusters=N_CLUSTERS)"
   ]
  },
  {
   "cell_type": "markdown",
   "metadata": {},
   "source": [
    "### Appliquer le clustering à l'aide de la fonction `fit_predict`"
   ]
  },
  {
   "cell_type": "code",
   "execution_count": 99,
   "metadata": {},
   "outputs": [],
   "source": [
    "clusters = km_model.fit_predict(tfidf_vectors)"
   ]
  },
  {
   "cell_type": "code",
   "execution_count": 100,
   "metadata": {},
   "outputs": [],
   "source": [
    "clustering = collections.defaultdict(list)\n",
    "\n",
    "for idx, label in enumerate(clusters):\n",
    "    clustering[label].append(files[idx])"
   ]
  },
  {
   "cell_type": "code",
   "execution_count": 101,
   "metadata": {},
   "outputs": [
    {
     "name": "stdout",
     "output_type": "stream",
     "text": [
      "{0: ['Bxl_1910_Tome_I2_1_Part_10.txt',\n",
      "     'Bxl_1910_Tome_I2_1_Part_13.txt',\n",
      "     'Bxl_1910_Tome_I2_1_Part_2.txt',\n",
      "     'Bxl_1910_Tome_I2_1_Part_3.txt',\n",
      "     'Bxl_1910_Tome_I2_1_Part_5.txt',\n",
      "     'Bxl_1910_Tome_I2_1_Part_8.txt',\n",
      "     'Bxl_1910_Tome_I2_1_Part_9.txt',\n",
      "     'Bxl_1910_Tome_I2_2_Part_10.txt',\n",
      "     'Bxl_1910_Tome_I2_2_Part_11.txt',\n",
      "     'Bxl_1910_Tome_I2_2_Part_8.txt',\n",
      "     'Bxl_1910_Tome_I2_2_Part_9.txt',\n",
      "     'Bxl_1911_Tome_I1_Part_2.txt',\n",
      "     'Bxl_1911_Tome_I1_Part_3.txt',\n",
      "     'Bxl_1911_Tome_I1_Part_4.txt',\n",
      "     'Bxl_1911_Tome_I1_Part_7.txt',\n",
      "     'Bxl_1911_Tome_I2_1_Part_5.txt',\n",
      "     'Bxl_1911_Tome_I2_1_Part_6.txt',\n",
      "     'Bxl_1911_Tome_I2_1_Part_7.txt',\n",
      "     'Bxl_1911_Tome_I2_1_Part_8.txt',\n",
      "     'Bxl_1911_Tome_I2_1_Part_9.txt',\n",
      "     'Bxl_1911_Tome_I2_2_Part_10.txt',\n",
      "     'Bxl_1911_Tome_I2_2_Part_2.txt',\n",
      "     'Bxl_1911_Tome_I2_2_Part_8.txt',\n",
      "     'Bxl_1911_Tome_I2_2_Part_9.txt',\n",
      "     'Bxl_1911_Tome_II1_Part_4.txt',\n",
      "     'Bxl_1912_Tome_I1_2_Part_1.txt',\n",
      "     'Bxl_1912_Tome_I1_2_Part_2.txt',\n",
      "     'Bxl_1912_Tome_I1_2_Part_3.txt',\n",
      "     'Bxl_1912_Tome_I2_1_Part_3.txt',\n",
      "     'Bxl_1912_Tome_I2_1_Part_6.txt',\n",
      "     'Bxl_1912_Tome_I2_1_Part_7.txt',\n",
      "     'Bxl_1912_Tome_I2_1_Part_8.txt',\n",
      "     'Bxl_1912_Tome_I2_2_Part_1.txt',\n",
      "     'Bxl_1912_Tome_I2_2_Part_10.txt',\n",
      "     'Bxl_1912_Tome_I2_2_Part_11.txt',\n",
      "     'Bxl_1912_Tome_I2_2_Part_8.txt',\n",
      "     'Bxl_1912_Tome_I2_2_Part_9.txt',\n",
      "     'Bxl_1913_Tome_I1_Part_12.txt',\n",
      "     'Bxl_1913_Tome_I1_Part_7.txt',\n",
      "     'Bxl_1913_Tome_I1_Part_8.txt',\n",
      "     'Bxl_1913_Tome_I1_Part_9.txt',\n",
      "     'Bxl_1913_Tome_I2_1_Part_5.txt',\n",
      "     'Bxl_1913_Tome_I2_1_Part_6.txt',\n",
      "     'Bxl_1913_Tome_I2_1_Part_7.txt',\n",
      "     'Bxl_1913_Tome_I2_2_Part_10.txt',\n",
      "     'Bxl_1913_Tome_I2_2_Part_11.txt',\n",
      "     'Bxl_1913_Tome_I2_2_Part_7.txt',\n",
      "     'Bxl_1913_Tome_I2_2_Part_8.txt',\n",
      "     'Bxl_1913_Tome_I2_2_Part_9.txt',\n",
      "     'Bxl_1913_Tome_II1_Part_3.txt',\n",
      "     'Bxl_1915_Tome_II1_Part_1.txt',\n",
      "     'Bxl_1915_Tome_II1_Part_2.txt',\n",
      "     'Bxl_1919_Tome_I2_2_Part_6.txt',\n",
      "     'Bxl_1919_Tome_I2_2_Part_7.txt',\n",
      "     'Bxl_1919_Tome_I2_2_Part_8.txt',\n",
      "     'Bxl_1919_Tome_budget_Part_1.txt',\n",
      "     'Bxl_1919_Tome_budget_Part_2.txt',\n",
      "     'Bxl_1919_Tome_budget_Part_3.txt',\n",
      "     'Bxl_1919_Tome_budget_Part_4.txt'],\n",
      " 1: ['Bxl_1910_Tome_I1_Part_1.txt',\n",
      "     'Bxl_1910_Tome_I1_Part_2.txt',\n",
      "     'Bxl_1910_Tome_I1_Part_3.txt',\n",
      "     'Bxl_1910_Tome_I1_Part_4.txt',\n",
      "     'Bxl_1910_Tome_I1_Part_5.txt',\n",
      "     'Bxl_1910_Tome_I1_Part_6.txt',\n",
      "     'Bxl_1910_Tome_I1_Part_7.txt',\n",
      "     'Bxl_1910_Tome_I1_Part_8.txt',\n",
      "     'Bxl_1910_Tome_I2_1_Part_1.txt',\n",
      "     'Bxl_1910_Tome_I2_1_Part_11.txt',\n",
      "     'Bxl_1910_Tome_I2_1_Part_12.txt',\n",
      "     'Bxl_1910_Tome_I2_1_Part_4.txt',\n",
      "     'Bxl_1910_Tome_I2_1_Part_6.txt',\n",
      "     'Bxl_1910_Tome_I2_1_Part_7.txt',\n",
      "     'Bxl_1910_Tome_I2_2_Part_1.txt',\n",
      "     'Bxl_1910_Tome_I2_2_Part_12.txt',\n",
      "     'Bxl_1910_Tome_I2_2_Part_2.txt',\n",
      "     'Bxl_1910_Tome_I2_2_Part_3.txt',\n",
      "     'Bxl_1910_Tome_I2_2_Part_4.txt',\n",
      "     'Bxl_1910_Tome_I2_2_Part_5.txt',\n",
      "     'Bxl_1910_Tome_I2_2_Part_6.txt',\n",
      "     'Bxl_1910_Tome_I2_2_Part_7.txt',\n",
      "     'Bxl_1911_Tome_I1_Part_1.txt',\n",
      "     'Bxl_1911_Tome_I1_Part_10.txt',\n",
      "     'Bxl_1911_Tome_I1_Part_11.txt',\n",
      "     'Bxl_1911_Tome_I1_Part_12.txt',\n",
      "     'Bxl_1911_Tome_I1_Part_13.txt',\n",
      "     'Bxl_1911_Tome_I1_Part_5.txt',\n",
      "     'Bxl_1911_Tome_I1_Part_6.txt',\n",
      "     'Bxl_1911_Tome_I1_Part_8.txt',\n",
      "     'Bxl_1911_Tome_I1_Part_9.txt',\n",
      "     'Bxl_1911_Tome_I2_1_Part_1.txt',\n",
      "     'Bxl_1911_Tome_I2_1_Part_10.txt',\n",
      "     'Bxl_1911_Tome_I2_1_Part_2.txt',\n",
      "     'Bxl_1911_Tome_I2_1_Part_3.txt',\n",
      "     'Bxl_1911_Tome_I2_1_Part_4.txt',\n",
      "     'Bxl_1911_Tome_I2_2_Part_1.txt',\n",
      "     'Bxl_1911_Tome_I2_2_Part_11.txt',\n",
      "     'Bxl_1911_Tome_I2_2_Part_3.txt',\n",
      "     'Bxl_1911_Tome_I2_2_Part_4.txt',\n",
      "     'Bxl_1911_Tome_I2_2_Part_5.txt',\n",
      "     'Bxl_1911_Tome_I2_2_Part_6.txt',\n",
      "     'Bxl_1911_Tome_I2_2_Part_7.txt',\n",
      "     'Bxl_1912_Tome_I1_1_Part_1.txt',\n",
      "     'Bxl_1912_Tome_I1_1_Part_2.txt',\n",
      "     'Bxl_1912_Tome_I1_1_Part_3.txt',\n",
      "     'Bxl_1912_Tome_I1_1_Part_4.txt',\n",
      "     'Bxl_1912_Tome_I1_1_Part_5.txt',\n",
      "     'Bxl_1912_Tome_I1_1_Part_6.txt',\n",
      "     'Bxl_1912_Tome_I1_2_Part_4.txt',\n",
      "     'Bxl_1912_Tome_I1_2_Part_5.txt',\n",
      "     'Bxl_1912_Tome_I1_2_Part_6.txt',\n",
      "     'Bxl_1912_Tome_I1_2_Part_7.txt',\n",
      "     'Bxl_1912_Tome_I2_1_Part_1.txt',\n",
      "     'Bxl_1912_Tome_I2_1_Part_10.txt',\n",
      "     'Bxl_1912_Tome_I2_1_Part_2.txt',\n",
      "     'Bxl_1912_Tome_I2_1_Part_4.txt',\n",
      "     'Bxl_1912_Tome_I2_1_Part_5.txt',\n",
      "     'Bxl_1912_Tome_I2_1_Part_9.txt',\n",
      "     'Bxl_1912_Tome_I2_2_Part_12.txt',\n",
      "     'Bxl_1912_Tome_I2_2_Part_2.txt',\n",
      "     'Bxl_1912_Tome_I2_2_Part_3.txt',\n",
      "     'Bxl_1912_Tome_I2_2_Part_4.txt',\n",
      "     'Bxl_1912_Tome_I2_2_Part_5.txt',\n",
      "     'Bxl_1912_Tome_I2_2_Part_6.txt',\n",
      "     'Bxl_1912_Tome_I2_2_Part_7.txt',\n",
      "     'Bxl_1913_Tome_I1_Part_1.txt',\n",
      "     'Bxl_1913_Tome_I1_Part_10.txt',\n",
      "     'Bxl_1913_Tome_I1_Part_11.txt',\n",
      "     'Bxl_1913_Tome_I1_Part_2.txt',\n",
      "     'Bxl_1913_Tome_I1_Part_3.txt',\n",
      "     'Bxl_1913_Tome_I1_Part_4.txt',\n",
      "     'Bxl_1913_Tome_I1_Part_5.txt',\n",
      "     'Bxl_1913_Tome_I1_Part_6.txt',\n",
      "     'Bxl_1913_Tome_I2_1_Part_1.txt',\n",
      "     'Bxl_1913_Tome_I2_1_Part_10.txt',\n",
      "     'Bxl_1913_Tome_I2_1_Part_2.txt',\n",
      "     'Bxl_1913_Tome_I2_1_Part_3.txt',\n",
      "     'Bxl_1913_Tome_I2_1_Part_4.txt',\n",
      "     'Bxl_1913_Tome_I2_1_Part_8.txt',\n",
      "     'Bxl_1913_Tome_I2_1_Part_9.txt',\n",
      "     'Bxl_1913_Tome_I2_2_Part_1.txt',\n",
      "     'Bxl_1913_Tome_I2_2_Part_2.txt',\n",
      "     'Bxl_1913_Tome_I2_2_Part_3.txt',\n",
      "     'Bxl_1913_Tome_I2_2_Part_4.txt',\n",
      "     'Bxl_1913_Tome_I2_2_Part_5.txt',\n",
      "     'Bxl_1913_Tome_I2_2_Part_6.txt',\n",
      "     'Bxl_1915_Tome_II1_Part_3.txt',\n",
      "     'Bxl_1915_Tome_II1_Part_4.txt',\n",
      "     'Bxl_1915_Tome_II1_Part_5.txt',\n",
      "     'Bxl_1918_Tome_I2_Part_1.txt',\n",
      "     'Bxl_1919_Tome_I2_2_Part_1.txt',\n",
      "     'Bxl_1919_Tome_I2_2_Part_10.txt',\n",
      "     'Bxl_1919_Tome_I2_2_Part_2.txt',\n",
      "     'Bxl_1919_Tome_I2_2_Part_3.txt',\n",
      "     'Bxl_1919_Tome_I2_2_Part_4.txt',\n",
      "     'Bxl_1919_Tome_I2_2_Part_5.txt',\n",
      "     'Bxl_1919_Tome_I2_2_Part_9.txt'],\n",
      " 2: ['Bxl_1910_Tome_II1_Part_1.txt',\n",
      "     'Bxl_1910_Tome_II1_Part_2.txt',\n",
      "     'Bxl_1910_Tome_II1_Part_3.txt',\n",
      "     'Bxl_1911_Tome_II1_Part_1.txt',\n",
      "     'Bxl_1911_Tome_II1_Part_2.txt',\n",
      "     'Bxl_1911_Tome_II1_Part_3.txt',\n",
      "     'Bxl_1912_Tome_II1_Part_1.txt',\n",
      "     'Bxl_1912_Tome_II1_Part_2.txt',\n",
      "     'Bxl_1912_Tome_II1_Part_3.txt',\n",
      "     'Bxl_1913_Tome_II1_Part_1.txt',\n",
      "     'Bxl_1913_Tome_II1_Part_2.txt',\n",
      "     'Bxl_1914_Tome_II1_Part_1.txt',\n",
      "     'Bxl_1914_Tome_II1_Part_2.txt']}\n"
     ]
    }
   ],
   "source": [
    "pprint(dict(clustering))"
   ]
  },
  {
   "cell_type": "markdown",
   "metadata": {},
   "source": [
    "## Visualiser les clusters"
   ]
  },
  {
   "cell_type": "markdown",
   "metadata": {},
   "source": [
    "### Réduire les vecteurs à 2 dimensions à l'aide de l'algorithme PCA\n",
    "Cette étape est nécessaire afin de visualiser les documents dans un espace 2D\n",
    "\n",
    "https://fr.wikipedia.org/wiki/Analyse_en_composantes_principales"
   ]
  },
  {
   "cell_type": "code",
   "execution_count": 102,
   "metadata": {},
   "outputs": [],
   "source": [
    "pca = PCA(n_components=2)\n",
    "reduced_vectors = pca.fit_transform(tfidf_vectors.toarray())"
   ]
  },
  {
   "cell_type": "code",
   "execution_count": 103,
   "metadata": {},
   "outputs": [
    {
     "data": {
      "text/plain": [
       "array([[-0.29560243,  0.02960278],\n",
       "       [-0.21130075,  0.00862237],\n",
       "       [-0.07379337, -0.02809699],\n",
       "       [-0.31097007,  0.0973617 ],\n",
       "       [-0.17718178,  0.04685629],\n",
       "       [-0.3250442 ,  0.11742799],\n",
       "       [-0.13380917,  0.00412823],\n",
       "       [ 0.08315556, -0.07108549],\n",
       "       [-0.23319828, -0.02378153],\n",
       "       [ 0.15931501, -0.10998297]])"
      ]
     },
     "execution_count": 103,
     "metadata": {},
     "output_type": "execute_result"
    }
   ],
   "source": [
    "reduced_vectors[:10]"
   ]
  },
  {
   "cell_type": "markdown",
   "metadata": {},
   "source": [
    "### Générer le plot"
   ]
  },
  {
   "cell_type": "code",
   "execution_count": 104,
   "metadata": {},
   "outputs": [
    {
     "data": {
      "text/plain": [
       "<matplotlib.legend.Legend at 0x7f1957edc760>"
      ]
     },
     "execution_count": 104,
     "metadata": {},
     "output_type": "execute_result"
    },
    {
     "data": {
      "image/png": "[encoded data removed]",
      "text/plain": [
       "<Figure size 720x720 with 1 Axes>"
      ]
     },
     "metadata": {
      "needs_background": "light"
     },
     "output_type": "display_data"
    }
   ],
   "source": [
    "x_axis = reduced_vectors[:, 0]\n",
    "y_axis = reduced_vectors[:, 1]\n",
    "\n",
    "plt.figure(figsize=(10,10))\n",
    "scatter = plt.scatter(x_axis, y_axis, s=100, c=clusters)\n",
    "\n",
    "# Ajouter les centroïdes\n",
    "centroids = pca.transform(km_model.cluster_centers_)\n",
    "plt.scatter(centroids[:, 0], centroids[:, 1],  marker = \"x\", s=100, linewidths = 2, color='black')\n",
    "\n",
    "# Ajouter la légende\n",
    "plt.legend(handles=scatter.legend_elements()[0], labels=set(clusters), title=\"Clusters\")"
   ]
  },
  {
   "cell_type": "code",
   "execution_count": null,
   "metadata": {},
   "outputs": [],
   "source": []
  },
  {
   "cell_type": "code",
   "execution_count": null,
   "metadata": {},
   "outputs": [],
   "source": []
  },
  {
   "cell_type": "markdown",
   "metadata": {},
   "source": [
    "## Imports"
   ]
  },
  {
   "cell_type": "code",
   "execution_count": 61,
   "metadata": {},
   "outputs": [],
   "source": [
    "import collections\n",
    "import os\n",
    "import string\n",
    "import sys\n",
    "\n",
    "import pandas as pd\n",
    "from nltk import word_tokenize\n",
    "from nltk.corpus import stopwords\n",
    "from pprint import pprint\n",
    "from sklearn.cluster import KMeans\n",
    "from sklearn.feature_extraction.text import TfidfVectorizer\n",
    "from sklearn.decomposition import PCA\n",
    "import numpy as np\n",
    "import matplotlib.pyplot as plt\n",
    "from scipy.spatial.distance import cosine"
   ]
  },
  {
   "cell_type": "code",
   "execution_count": 62,
   "metadata": {},
   "outputs": [
    {
     "name": "stderr",
     "output_type": "stream",
     "text": [
      "[nltk_data] Downloading package punkt to /root/nltk_data...\n",
      "[nltk_data]   Package punkt is already up-to-date!\n"
     ]
    },
    {
     "data": {
      "text/plain": [
       "True"
      ]
     },
     "execution_count": 62,
     "metadata": {},
     "output_type": "execute_result"
    }
   ],
   "source": [
    "import nltk\n",
    "\n",
    "nltk.download('punkt')"
   ]
  },
  {
   "cell_type": "code",
   "execution_count": 63,
   "metadata": {},
   "outputs": [],
   "source": [
    "data_path = \"../data/txt/\""
   ]
  },
  {
   "cell_type": "markdown",
   "metadata": {},
   "source": [
    "## Choisir une décennie"
   ]
  },
  {
   "cell_type": "code",
   "execution_count": 64,
   "metadata": {},
   "outputs": [],
   "source": [
    "DECADE = '1910'"
   ]
  },
  {
   "cell_type": "markdown",
   "metadata": {},
   "source": [
    "## Charger tous les  fichiers de la décennie et en créer une liste de textes"
   ]
  },
  {
   "cell_type": "code",
   "execution_count": 65,
   "metadata": {},
   "outputs": [],
   "source": [
    "files = [f for f in sorted(os.listdir(data_path)) if f\"_{DECADE[:-1]}\" in f]"
   ]
  },
  {
   "cell_type": "code",
   "execution_count": 66,
   "metadata": {},
   "outputs": [
    {
     "data": {
      "text/plain": [
       "['Bxl_1910_Tome_I1_Part_1.txt',\n",
       " 'Bxl_1910_Tome_I1_Part_2.txt',\n",
       " 'Bxl_1910_Tome_I1_Part_3.txt',\n",
       " 'Bxl_1910_Tome_I1_Part_4.txt',\n",
       " 'Bxl_1910_Tome_I1_Part_5.txt',\n",
       " 'Bxl_1910_Tome_I1_Part_6.txt',\n",
       " 'Bxl_1910_Tome_I1_Part_7.txt',\n",
       " 'Bxl_1910_Tome_I1_Part_8.txt',\n",
       " 'Bxl_1910_Tome_I2_1_Part_1.txt',\n",
       " 'Bxl_1910_Tome_I2_1_Part_10.txt',\n",
       " 'Bxl_1910_Tome_I2_1_Part_11.txt',\n",
       " 'Bxl_1910_Tome_I2_1_Part_12.txt',\n",
       " 'Bxl_1910_Tome_I2_1_Part_13.txt',\n",
       " 'Bxl_1910_Tome_I2_1_Part_2.txt',\n",
       " 'Bxl_1910_Tome_I2_1_Part_3.txt']"
      ]
     },
     "execution_count": 66,
     "metadata": {},
     "output_type": "execute_result"
    }
   ],
   "source": [
    "# Exemple de fichiers\n",
    "files[:15]"
   ]
  },
  {
   "cell_type": "code",
   "execution_count": 67,
   "metadata": {},
   "outputs": [],
   "source": [
    "texts = [open(data_path + f).read() for f in files]"
   ]
  },
  {
   "cell_type": "code",
   "execution_count": 68,
   "metadata": {},
   "outputs": [
    {
     "data": {
      "text/plain": [
       "'\\x0cV I L L E\\n\\nD E\\n\\nB R U X E L L E S .\\no\\n\\nBULLETIN COMMUNAL\\nA N N É E\\n\\nP R E M I È R E\\n\\nTOME\\n\\nC O M P '"
      ]
     },
     "execution_count": 68,
     "metadata": {},
     "output_type": "execute_result"
    }
   ],
   "source": [
    "# Exemple de textes\n",
    "texts[0][:100]"
   ]
  },
  {
   "cell_type": "markdown",
   "metadata": {},
   "source": [
    "## Vectoriser les documents à l'aide de TF-IDF"
   ]
  },
  {
   "cell_type": "code",
   "execution_count": 69,
   "metadata": {},
   "outputs": [],
   "source": [
    "# Création d'une fonction de pré-traitement\n",
    "def preprocessing(text, stem=True):\n",
    "    \"\"\" Tokenize text and remove punctuation \"\"\"\n",
    "    text = text.translate(string.punctuation)\n",
    "    tokens = word_tokenize(text)\n",
    "    return tokens"
   ]
  },
  {
   "cell_type": "markdown",
   "metadata": {},
   "source": [
    "### Instancier le modèle TF-IDF avec ses arguments"
   ]
  },
  {
   "cell_type": "code",
   "execution_count": 70,
   "metadata": {},
   "outputs": [],
   "source": [
    "vectorizer = TfidfVectorizer(\n",
    "    tokenizer=preprocessing,\n",
    "    stop_words=stopwords.words('french'),\n",
    "    max_df=0.5,\n",
    "    min_df=0.1,\n",
    "    lowercase=True)"
   ]
  },
  {
   "cell_type": "markdown",
   "metadata": {},
   "source": [
    "### Construire la matrice de vecteurs à l'aide de la fonction `fit_transform`"
   ]
  },
  {
   "cell_type": "code",
   "execution_count": 71,
   "metadata": {},
   "outputs": [
    {
     "name": "stdout",
     "output_type": "stream",
     "text": [
      "CPU times: user 1min 44s, sys: 104 ms, total: 1min 44s\n",
      "Wall time: 1min 44s\n"
     ]
    }
   ],
   "source": [
    "%time tfidf_vectors = vectorizer.fit_transform(texts)"
   ]
  },
  {
   "cell_type": "code",
   "execution_count": 72,
   "metadata": {},
   "outputs": [
    {
     "data": {
      "text/plain": [
       "<170x7097 sparse matrix of type '<class 'numpy.float64'>'\n",
       "\twith 252381 stored elements in Compressed Sparse Row format>"
      ]
     },
     "execution_count": 72,
     "metadata": {},
     "output_type": "execute_result"
    }
   ],
   "source": [
    "# Détail de la matrice\n",
    "tfidf_vectors"
   ]
  },
  {
   "cell_type": "markdown",
   "metadata": {},
   "source": [
    "### Imprimer le vecteur tf-IDF du premier document"
   ]
  },
  {
   "cell_type": "code",
   "execution_count": 73,
   "metadata": {},
   "outputs": [
    {
     "data": {
      "text/plain": [
       "enseignant          0.194609\n",
       "perfectionnement    0.160739\n",
       "theodor             0.151363\n",
       "l'honorable         0.140094\n",
       "sacrés              0.129844\n",
       "                      ...   \n",
       "dit-il              0.000000\n",
       "distribués          0.000000\n",
       "distribuées         0.000000\n",
       "distribué           0.000000\n",
       "™                   0.000000\n",
       "Length: 7097, dtype: float64"
      ]
     },
     "execution_count": 73,
     "metadata": {},
     "output_type": "execute_result"
    }
   ],
   "source": [
    "pd.Series(\n",
    "    tfidf_vectors[0].toarray()[0],\n",
    "    index=vectorizer.get_feature_names_out()\n",
    "    ).sort_values(ascending=False)"
   ]
  },
  {
   "cell_type": "markdown",
   "metadata": {},
   "source": [
    "## Comprendre les vecteurs et leurs \"distances\""
   ]
  },
  {
   "cell_type": "code",
   "execution_count": 74,
   "metadata": {},
   "outputs": [
    {
     "data": {
      "text/plain": [
       "0"
      ]
     },
     "execution_count": 74,
     "metadata": {},
     "output_type": "execute_result"
    }
   ],
   "source": [
    "cosine([1, 2, 3], [1, 2, 3])"
   ]
  },
  {
   "cell_type": "code",
   "execution_count": 75,
   "metadata": {},
   "outputs": [
    {
     "data": {
      "text/plain": [
       "0.02004211298777725"
      ]
     },
     "execution_count": 75,
     "metadata": {},
     "output_type": "execute_result"
    }
   ],
   "source": [
    "cosine([1, 2, 3], [1, 2, 2])"
   ]
  },
  {
   "cell_type": "code",
   "execution_count": 76,
   "metadata": {},
   "outputs": [
    {
     "data": {
      "text/plain": [
       "0.07417990022744858"
      ]
     },
     "execution_count": 76,
     "metadata": {},
     "output_type": "execute_result"
    }
   ],
   "source": [
    "cosine([1, 2, 3], [2, 2, 2])"
   ]
  },
  {
   "cell_type": "markdown",
   "metadata": {},
   "source": [
    "### Tests sur nos documents"
   ]
  },
  {
   "cell_type": "code",
   "execution_count": 77,
   "metadata": {},
   "outputs": [],
   "source": [
    "tfidf_array = tfidf_vectors.toarray()"
   ]
  },
  {
   "cell_type": "code",
   "execution_count": 78,
   "metadata": {},
   "outputs": [
    {
     "data": {
      "text/plain": [
       "array([0., 0., 0., ..., 0., 0., 0.])"
      ]
     },
     "execution_count": 78,
     "metadata": {},
     "output_type": "execute_result"
    }
   ],
   "source": [
    "# Vecteur du document 0\n",
    "tfidf_array[0]"
   ]
  },
  {
   "cell_type": "code",
   "execution_count": 79,
   "metadata": {},
   "outputs": [
    {
     "data": {
      "text/plain": [
       "array([0.        , 0.01001937, 0.        , ..., 0.        , 0.        ,\n",
       "       0.        ])"
      ]
     },
     "execution_count": 79,
     "metadata": {},
     "output_type": "execute_result"
    }
   ],
   "source": [
    "# Vecteur du document 1\n",
    "tfidf_array[1]"
   ]
  },
  {
   "cell_type": "code",
   "execution_count": 80,
   "metadata": {},
   "outputs": [
    {
     "data": {
      "text/plain": [
       "0.712899401391456"
      ]
     },
     "execution_count": 80,
     "metadata": {},
     "output_type": "execute_result"
    }
   ],
   "source": [
    "cosine(tfidf_array[0], tfidf_array[1])"
   ]
  },
  {
   "cell_type": "markdown",
   "metadata": {},
   "source": [
    "## Appliquer un algorithme de clustering sur les vecteurs TF-IDF des documents"
   ]
  },
  {
   "cell_type": "markdown",
   "metadata": {},
   "source": [
    "Pour en savoir plus sur le KMeans clustering :\n",
    "- https://medium.com/dataseries/k-means-clustering-explained-visually-in-5-minutes-b900cc69d175"
   ]
  },
  {
   "cell_type": "markdown",
   "metadata": {},
   "source": [
    "### Définir un nombre de clusters"
   ]
  },
  {
   "cell_type": "code",
   "execution_count": 97,
   "metadata": {},
   "outputs": [],
   "source": [
    "N_CLUSTERS = 3"
   ]
  },
  {
   "cell_type": "markdown",
   "metadata": {},
   "source": [
    "### Instancier le modèle K-Means et ses arguments"
   ]
  },
  {
   "cell_type": "code",
   "execution_count": 98,
   "metadata": {},
   "outputs": [],
   "source": [
    "km_model = KMeans(n_clusters=N_CLUSTERS)"
   ]
  },
  {
   "cell_type": "markdown",
   "metadata": {},
   "source": [
    "### Appliquer le clustering à l'aide de la fonction `fit_predict`"
   ]
  },
  {
   "cell_type": "code",
   "execution_count": 99,
   "metadata": {},
   "outputs": [],
   "source": [
    "clusters = km_model.fit_predict(tfidf_vectors)"
   ]
  },
  {
   "cell_type": "code",
   "execution_count": 100,
   "metadata": {},
   "outputs": [],
   "source": [
    "clustering = collections.defaultdict(list)\n",
    "\n",
    "for idx, label in enumerate(clusters):\n",
    "    clustering[label].append(files[idx])"
   ]
  },
  {
   "cell_type": "code",
   "execution_count": 101,
   "metadata": {},
   "outputs": [
    {
     "name": "stdout",
     "output_type": "stream",
     "text": [
      "{0: ['Bxl_1910_Tome_I2_1_Part_10.txt',\n",
      "     'Bxl_1910_Tome_I2_1_Part_13.txt',\n",
      "     'Bxl_1910_Tome_I2_1_Part_2.txt',\n",
      "     'Bxl_1910_Tome_I2_1_Part_3.txt',\n",
      "     'Bxl_1910_Tome_I2_1_Part_5.txt',\n",
      "     'Bxl_1910_Tome_I2_1_Part_8.txt',\n",
      "     'Bxl_1910_Tome_I2_1_Part_9.txt',\n",
      "     'Bxl_1910_Tome_I2_2_Part_10.txt',\n",
      "     'Bxl_1910_Tome_I2_2_Part_11.txt',\n",
      "     'Bxl_1910_Tome_I2_2_Part_8.txt',\n",
      "     'Bxl_1910_Tome_I2_2_Part_9.txt',\n",
      "     'Bxl_1911_Tome_I1_Part_2.txt',\n",
      "     'Bxl_1911_Tome_I1_Part_3.txt',\n",
      "     'Bxl_1911_Tome_I1_Part_4.txt',\n",
      "     'Bxl_1911_Tome_I1_Part_7.txt',\n",
      "     'Bxl_1911_Tome_I2_1_Part_5.txt',\n",
      "     'Bxl_1911_Tome_I2_1_Part_6.txt',\n",
      "     'Bxl_1911_Tome_I2_1_Part_7.txt',\n",
      "     'Bxl_1911_Tome_I2_1_Part_8.txt',\n",
      "     'Bxl_1911_Tome_I2_1_Part_9.txt',\n",
      "     'Bxl_1911_Tome_I2_2_Part_10.txt',\n",
      "     'Bxl_1911_Tome_I2_2_Part_2.txt',\n",
      "     'Bxl_1911_Tome_I2_2_Part_8.txt',\n",
      "     'Bxl_1911_Tome_I2_2_Part_9.txt',\n",
      "     'Bxl_1911_Tome_II1_Part_4.txt',\n",
      "     'Bxl_1912_Tome_I1_2_Part_1.txt',\n",
      "     'Bxl_1912_Tome_I1_2_Part_2.txt',\n",
      "     'Bxl_1912_Tome_I1_2_Part_3.txt',\n",
      "     'Bxl_1912_Tome_I2_1_Part_3.txt',\n",
      "     'Bxl_1912_Tome_I2_1_Part_6.txt',\n",
      "     'Bxl_1912_Tome_I2_1_Part_7.txt',\n",
      "     'Bxl_1912_Tome_I2_1_Part_8.txt',\n",
      "     'Bxl_1912_Tome_I2_2_Part_1.txt',\n",
      "     'Bxl_1912_Tome_I2_2_Part_10.txt',\n",
      "     'Bxl_1912_Tome_I2_2_Part_11.txt',\n",
      "     'Bxl_1912_Tome_I2_2_Part_8.txt',\n",
      "     'Bxl_1912_Tome_I2_2_Part_9.txt',\n",
      "     'Bxl_1913_Tome_I1_Part_12.txt',\n",
      "     'Bxl_1913_Tome_I1_Part_7.txt',\n",
      "     'Bxl_1913_Tome_I1_Part_8.txt',\n",
      "     'Bxl_1913_Tome_I1_Part_9.txt',\n",
      "     'Bxl_1913_Tome_I2_1_Part_5.txt',\n",
      "     'Bxl_1913_Tome_I2_1_Part_6.txt',\n",
      "     'Bxl_1913_Tome_I2_1_Part_7.txt',\n",
      "     'Bxl_1913_Tome_I2_2_Part_10.txt',\n",
      "     'Bxl_1913_Tome_I2_2_Part_11.txt',\n",
      "     'Bxl_1913_Tome_I2_2_Part_7.txt',\n",
      "     'Bxl_1913_Tome_I2_2_Part_8.txt',\n",
      "     'Bxl_1913_Tome_I2_2_Part_9.txt',\n",
      "     'Bxl_1913_Tome_II1_Part_3.txt',\n",
      "     'Bxl_1915_Tome_II1_Part_1.txt',\n",
      "     'Bxl_1915_Tome_II1_Part_2.txt',\n",
      "     'Bxl_1919_Tome_I2_2_Part_6.txt',\n",
      "     'Bxl_1919_Tome_I2_2_Part_7.txt',\n",
      "     'Bxl_1919_Tome_I2_2_Part_8.txt',\n",
      "     'Bxl_1919_Tome_budget_Part_1.txt',\n",
      "     'Bxl_1919_Tome_budget_Part_2.txt',\n",
      "     'Bxl_1919_Tome_budget_Part_3.txt',\n",
      "     'Bxl_1919_Tome_budget_Part_4.txt'],\n",
      " 1: ['Bxl_1910_Tome_I1_Part_1.txt',\n",
      "     'Bxl_1910_Tome_I1_Part_2.txt',\n",
      "     'Bxl_1910_Tome_I1_Part_3.txt',\n",
      "     'Bxl_1910_Tome_I1_Part_4.txt',\n",
      "     'Bxl_1910_Tome_I1_Part_5.txt',\n",
      "     'Bxl_1910_Tome_I1_Part_6.txt',\n",
      "     'Bxl_1910_Tome_I1_Part_7.txt',\n",
      "     'Bxl_1910_Tome_I1_Part_8.txt',\n",
      "     'Bxl_1910_Tome_I2_1_Part_1.txt',\n",
      "     'Bxl_1910_Tome_I2_1_Part_11.txt',\n",
      "     'Bxl_1910_Tome_I2_1_Part_12.txt',\n",
      "     'Bxl_1910_Tome_I2_1_Part_4.txt',\n",
      "     'Bxl_1910_Tome_I2_1_Part_6.txt',\n",
      "     'Bxl_1910_Tome_I2_1_Part_7.txt',\n",
      "     'Bxl_1910_Tome_I2_2_Part_1.txt',\n",
      "     'Bxl_1910_Tome_I2_2_Part_12.txt',\n",
      "     'Bxl_1910_Tome_I2_2_Part_2.txt',\n",
      "     'Bxl_1910_Tome_I2_2_Part_3.txt',\n",
      "     'Bxl_1910_Tome_I2_2_Part_4.txt',\n",
      "     'Bxl_1910_Tome_I2_2_Part_5.txt',\n",
      "     'Bxl_1910_Tome_I2_2_Part_6.txt',\n",
      "     'Bxl_1910_Tome_I2_2_Part_7.txt',\n",
      "     'Bxl_1911_Tome_I1_Part_1.txt',\n",
      "     'Bxl_1911_Tome_I1_Part_10.txt',\n",
      "     'Bxl_1911_Tome_I1_Part_11.txt',\n",
      "     'Bxl_1911_Tome_I1_Part_12.txt',\n",
      "     'Bxl_1911_Tome_I1_Part_13.txt',\n",
      "     'Bxl_1911_Tome_I1_Part_5.txt',\n",
      "     'Bxl_1911_Tome_I1_Part_6.txt',\n",
      "     'Bxl_1911_Tome_I1_Part_8.txt',\n",
      "     'Bxl_1911_Tome_I1_Part_9.txt',\n",
      "     'Bxl_1911_Tome_I2_1_Part_1.txt',\n",
      "     'Bxl_1911_Tome_I2_1_Part_10.txt',\n",
      "     'Bxl_1911_Tome_I2_1_Part_2.txt',\n",
      "     'Bxl_1911_Tome_I2_1_Part_3.txt',\n",
      "     'Bxl_1911_Tome_I2_1_Part_4.txt',\n",
      "     'Bxl_1911_Tome_I2_2_Part_1.txt',\n",
      "     'Bxl_1911_Tome_I2_2_Part_11.txt',\n",
      "     'Bxl_1911_Tome_I2_2_Part_3.txt',\n",
      "     'Bxl_1911_Tome_I2_2_Part_4.txt',\n",
      "     'Bxl_1911_Tome_I2_2_Part_5.txt',\n",
      "     'Bxl_1911_Tome_I2_2_Part_6.txt',\n",
      "     'Bxl_1911_Tome_I2_2_Part_7.txt',\n",
      "     'Bxl_1912_Tome_I1_1_Part_1.txt',\n",
      "     'Bxl_1912_Tome_I1_1_Part_2.txt',\n",
      "     'Bxl_1912_Tome_I1_1_Part_3.txt',\n",
      "     'Bxl_1912_Tome_I1_1_Part_4.txt',\n",
      "     'Bxl_1912_Tome_I1_1_Part_5.txt',\n",
      "     'Bxl_1912_Tome_I1_1_Part_6.txt',\n",
      "     'Bxl_1912_Tome_I1_2_Part_4.txt',\n",
      "     'Bxl_1912_Tome_I1_2_Part_5.txt',\n",
      "     'Bxl_1912_Tome_I1_2_Part_6.txt',\n",
      "     'Bxl_1912_Tome_I1_2_Part_7.txt',\n",
      "     'Bxl_1912_Tome_I2_1_Part_1.txt',\n",
      "     'Bxl_1912_Tome_I2_1_Part_10.txt',\n",
      "     'Bxl_1912_Tome_I2_1_Part_2.txt',\n",
      "     'Bxl_1912_Tome_I2_1_Part_4.txt',\n",
      "     'Bxl_1912_Tome_I2_1_Part_5.txt',\n",
      "     'Bxl_1912_Tome_I2_1_Part_9.txt',\n",
      "     'Bxl_1912_Tome_I2_2_Part_12.txt',\n",
      "     'Bxl_1912_Tome_I2_2_Part_2.txt',\n",
      "     'Bxl_1912_Tome_I2_2_Part_3.txt',\n",
      "     'Bxl_1912_Tome_I2_2_Part_4.txt',\n",
      "     'Bxl_1912_Tome_I2_2_Part_5.txt',\n",
      "     'Bxl_1912_Tome_I2_2_Part_6.txt',\n",
      "     'Bxl_1912_Tome_I2_2_Part_7.txt',\n",
      "     'Bxl_1913_Tome_I1_Part_1.txt',\n",
      "     'Bxl_1913_Tome_I1_Part_10.txt',\n",
      "     'Bxl_1913_Tome_I1_Part_11.txt',\n",
      "     'Bxl_1913_Tome_I1_Part_2.txt',\n",
      "     'Bxl_1913_Tome_I1_Part_3.txt',\n",
      "     'Bxl_1913_Tome_I1_Part_4.txt',\n",
      "     'Bxl_1913_Tome_I1_Part_5.txt',\n",
      "     'Bxl_1913_Tome_I1_Part_6.txt',\n",
      "     'Bxl_1913_Tome_I2_1_Part_1.txt',\n",
      "     'Bxl_1913_Tome_I2_1_Part_10.txt',\n",
      "     'Bxl_1913_Tome_I2_1_Part_2.txt',\n",
      "     'Bxl_1913_Tome_I2_1_Part_3.txt',\n",
      "     'Bxl_1913_Tome_I2_1_Part_4.txt',\n",
      "     'Bxl_1913_Tome_I2_1_Part_8.txt',\n",
      "     'Bxl_1913_Tome_I2_1_Part_9.txt',\n",
      "     'Bxl_1913_Tome_I2_2_Part_1.txt',\n",
      "     'Bxl_1913_Tome_I2_2_Part_2.txt',\n",
      "     'Bxl_1913_Tome_I2_2_Part_3.txt',\n",
      "     'Bxl_1913_Tome_I2_2_Part_4.txt',\n",
      "     'Bxl_1913_Tome_I2_2_Part_5.txt',\n",
      "     'Bxl_1913_Tome_I2_2_Part_6.txt',\n",
      "     'Bxl_1915_Tome_II1_Part_3.txt',\n",
      "     'Bxl_1915_Tome_II1_Part_4.txt',\n",
      "     'Bxl_1915_Tome_II1_Part_5.txt',\n",
      "     'Bxl_1918_Tome_I2_Part_1.txt',\n",
      "     'Bxl_1919_Tome_I2_2_Part_1.txt',\n",
      "     'Bxl_1919_Tome_I2_2_Part_10.txt',\n",
      "     'Bxl_1919_Tome_I2_2_Part_2.txt',\n",
      "     'Bxl_1919_Tome_I2_2_Part_3.txt',\n",
      "     'Bxl_1919_Tome_I2_2_Part_4.txt',\n",
      "     'Bxl_1919_Tome_I2_2_Part_5.txt',\n",
      "     'Bxl_1919_Tome_I2_2_Part_9.txt'],\n",
      " 2: ['Bxl_1910_Tome_II1_Part_1.txt',\n",
      "     'Bxl_1910_Tome_II1_Part_2.txt',\n",
      "     'Bxl_1910_Tome_II1_Part_3.txt',\n",
      "     'Bxl_1911_Tome_II1_Part_1.txt',\n",
      "     'Bxl_1911_Tome_II1_Part_2.txt',\n",
      "     'Bxl_1911_Tome_II1_Part_3.txt',\n",
      "     'Bxl_1912_Tome_II1_Part_1.txt',\n",
      "     'Bxl_1912_Tome_II1_Part_2.txt',\n",
      "     'Bxl_1912_Tome_II1_Part_3.txt',\n",
      "     'Bxl_1913_Tome_II1_Part_1.txt',\n",
      "     'Bxl_1913_Tome_II1_Part_2.txt',\n",
      "     'Bxl_1914_Tome_II1_Part_1.txt',\n",
      "     'Bxl_1914_Tome_II1_Part_2.txt']}\n"
     ]
    }
   ],
   "source": [
    "pprint(dict(clustering))"
   ]
  },
  {
   "cell_type": "markdown",
   "metadata": {},
   "source": [
    "## Visualiser les clusters"
   ]
  },
  {
   "cell_type": "markdown",
   "metadata": {},
   "source": [
    "### Réduire les vecteurs à 2 dimensions à l'aide de l'algorithme PCA\n",
    "Cette étape est nécessaire afin de visualiser les documents dans un espace 2D\n",
    "\n",
    "https://fr.wikipedia.org/wiki/Analyse_en_composantes_principales"
   ]
  },
  {
   "cell_type": "code",
   "execution_count": 102,
   "metadata": {},
   "outputs": [],
   "source": [
    "pca = PCA(n_components=2)\n",
    "reduced_vectors = pca.fit_transform(tfidf_vectors.toarray())"
   ]
  },
  {
   "cell_type": "code",
   "execution_count": 103,
   "metadata": {},
   "outputs": [
    {
     "data": {
      "text/plain": [
       "array([[-0.29560243,  0.02960278],\n",
       "       [-0.21130075,  0.00862237],\n",
       "       [-0.07379337, -0.02809699],\n",
       "       [-0.31097007,  0.0973617 ],\n",
       "       [-0.17718178,  0.04685629],\n",
       "       [-0.3250442 ,  0.11742799],\n",
       "       [-0.13380917,  0.00412823],\n",
       "       [ 0.08315556, -0.07108549],\n",
       "       [-0.23319828, -0.02378153],\n",
       "       [ 0.15931501, -0.10998297]])"
      ]
     },
     "execution_count": 103,
     "metadata": {},
     "output_type": "execute_result"
    }
   ],
   "source": [
    "reduced_vectors[:10]"
   ]
  },
  {
   "cell_type": "markdown",
   "metadata": {},
   "source": [
    "### Générer le plot"
   ]
  },
  {
   "cell_type": "code",
   "execution_count": 104,
   "metadata": {},
   "outputs": [
    {
     "data": {
      "text/plain": [
       "<matplotlib.legend.Legend at 0x7f1957edc760>"
      ]
     },
     "execution_count": 104,
     "metadata": {},
     "output_type": "execute_result"
    },
    {
     "data": {
      "image/png": "[encoded data removed]",
      "text/plain": [
       "<Figure size 720x720 with 1 Axes>"
      ]
     },
     "metadata": {
      "needs_background": "light"
     },
     "output_type": "display_data"
    }
   ],
   "source": [
    "x_axis = reduced_vectors[:, 0]\n",
    "y_axis = reduced_vectors[:, 1]\n",
    "\n",
    "plt.figure(figsize=(10,10))\n",
    "scatter = plt.scatter(x_axis, y_axis, s=100, c=clusters)\n",
    "\n",
    "# Ajouter les centroïdes\n",
    "centroids = pca.transform(km_model.cluster_centers_)\n",
    "plt.scatter(centroids[:, 0], centroids[:, 1],  marker = \"x\", s=100, linewidths = 2, color='black')\n",
    "\n",
    "# Ajouter la légende\n",
    "plt.legend(handles=scatter.legend_elements()[0], labels=set(clusters), title=\"Clusters\")"
   ]
  },
  {
   "cell_type": "code",
   "execution_count": null,
   "metadata": {},
   "outputs": [],
   "source": []
  },
  {
   "cell_type": "code",
   "execution_count": null,
   "metadata": {},
   "outputs": [],
   "source": []
  },
  {
   "cell_type": "markdown",
   "metadata": {
    "tags": []
   },
   "source": [
    "# Word Embeddings : le modèle Word2Vec"
   ]
  },
  {
   "cell_type": "markdown",
   "metadata": {},
   "source": [
    "## Imports"
   ]
  },
  {
   "cell_type": "code",
   "execution_count": 2,
   "metadata": {},
   "outputs": [
    {
     "name": "stdout",
     "output_type": "stream",
     "text": [
      "Collecting gensim\n",
      "  Downloading https://files.pythonhosted.org/packages/ef/92/325846f87c2ef1d6e5a6d54a55340877312b3afc4f23775448e3f97f3901/gensim-4.1.2-cp37-cp37m-win_amd64.whl (24.0MB)\n",
      "Collecting Cython==0.29.23 (from gensim)\n",
      "  Downloading https://files.pythonhosted.org/packages/89/61/0b316f1d669345003a7077ba9f7ebedd2b04eb164e3f42ba3c0b95469fc5/Cython-0.29.23-cp37-cp37m-win_amd64.whl (1.6MB)\n",
      "Requirement already satisfied: numpy>=1.17.0 in c:\\users\\bigdata\\anaconda3\\lib\\site-packages (from gensim) (1.17.4)\n",
      "Collecting smart-open>=1.8.1 (from gensim)\n",
      "  Downloading https://files.pythonhosted.org/packages/cd/11/05f68ea934c24ade38e95ac30a38407767787c4e3db1776eae4886ad8c95/smart_open-5.2.1-py3-none-any.whl (58kB)\n",
      "Requirement already satisfied: scipy>=0.18.1 in c:\\users\\bigdata\\appdata\\roaming\\python\\python37\\site-packages (from gensim) (1.4.1)\n",
      "Installing collected packages: Cython, smart-open, gensim\n",
      "  Found existing installation: Cython 0.29.12\n",
      "    Uninstalling Cython-0.29.12:\n",
      "      Successfully uninstalled Cython-0.29.12\n",
      "Successfully installed Cython-0.29.23 gensim-4.1.2 smart-open-5.2.1\n",
      "Note: you may need to restart the kernel to use updated packages.\n"
     ]
    }
   ],
   "source": [
    "pip install gensim"
   ]
  },
  {
   "cell_type": "code",
   "execution_count": 4,
   "metadata": {},
   "outputs": [
    {
     "name": "stdout",
     "output_type": "stream",
     "text": [
      "Collecting unidecode\n",
      "  Downloading https://files.pythonhosted.org/packages/e2/3a/3c35e04ea05724f29c77bf5c7a27cf0c80310483655bfdc2c1c5d1ab36b6/Unidecode-1.3.2-py3-none-any.whl (235kB)\n",
      "Installing collected packages: unidecode\n",
      "Successfully installed unidecode-1.3.2\n",
      "Note: you may need to restart the kernel to use updated packages.\n"
     ]
    }
   ],
   "source": [
    "pip install unidecode"
   ]
  },
  {
   "cell_type": "code",
   "execution_count": 5,
   "metadata": {},
   "outputs": [],
   "source": [
    "import sys\n",
    "\n",
    "from gensim.models.phrases import Phrases, Phraser\n",
    "from gensim.models import Word2Vec\n",
    "\n",
    "import nltk\n",
    "from nltk.tokenize import wordpunct_tokenize\n",
    "from unidecode import unidecode"
   ]
  },
  {
   "cell_type": "markdown",
   "metadata": {},
   "source": [
    "## Chargement et traitement des phrases du corpus"
   ]
  },
  {
   "cell_type": "markdown",
   "metadata": {},
   "source": [
    "### Création d'un objet qui *streame* les lignes d'un fichier pour économiser de la RAM"
   ]
  },
  {
   "cell_type": "code",
   "execution_count": 6,
   "metadata": {},
   "outputs": [],
   "source": [
    "class MySentences(object):\n",
    "    \"\"\"Tokenize and Lemmatize sentences\"\"\"\n",
    "    def __init__(self, filename):\n",
    "        self.filename = filename\n",
    "\n",
    "    def __iter__(self):\n",
    "        for line in open(self.filename, encoding='utf-8', errors=\"backslashreplace\"):\n",
    "            yield [unidecode(w.lower()) for w in wordpunct_tokenize(line)]"
   ]
  },
  {
   "cell_type": "code",
   "execution_count": 7,
   "metadata": {},
   "outputs": [],
   "source": [
    "infile = f\"../data/sents.txt\"\n",
    "sentences = MySentences(infile)"
   ]
  },
  {
   "cell_type": "markdown",
   "metadata": {},
   "source": [
    "### Détection des bigrams\n",
    "\n",
    "Article intéressant sur le sujet : https://towardsdatascience.com/word2vec-for-phrases-learning-embeddings-for-more-than-one-word-727b6cf723cf"
   ]
  },
  {
   "cell_type": "code",
   "execution_count": 8,
   "metadata": {},
   "outputs": [],
   "source": [
    "bigram_phrases = Phrases(sentences)"
   ]
  },
  {
   "cell_type": "markdown",
   "metadata": {},
   "source": [
    "L'object `phrases` peut être vu comme un large dictionnaire d'expressions multi-mots associées à un score, le *PMI-like scoring*. Ce dictionnaire est construit par un apprentissage sur base d'exemples.\n",
    "Voir les références ci-dessous :\n",
    "- https://arxiv.org/abs/1310.4546\n",
    "- https://en.wikipedia.org/wiki/Pointwise_mutual_information"
   ]
  },
  {
   "cell_type": "code",
   "execution_count": 9,
   "metadata": {},
   "outputs": [
    {
     "data": {
      "text/plain": [
       "dict"
      ]
     },
     "execution_count": 9,
     "metadata": {},
     "output_type": "execute_result"
    }
   ],
   "source": [
    "type(bigram_phrases.vocab)"
   ]
  },
  {
   "cell_type": "markdown",
   "metadata": {},
   "source": [
    "Il contient de nombreuses clés qui sont autant de termes observés dans le corpus"
   ]
  },
  {
   "cell_type": "code",
   "execution_count": 10,
   "metadata": {},
   "outputs": [
    {
     "data": {
      "text/plain": [
       "5978799"
      ]
     },
     "execution_count": 10,
     "metadata": {},
     "output_type": "execute_result"
    }
   ],
   "source": [
    "len(bigram_phrases.vocab.keys())"
   ]
  },
  {
   "cell_type": "markdown",
   "metadata": {},
   "source": [
    "Prenons une clé au hasard :"
   ]
  },
  {
   "cell_type": "code",
   "execution_count": 11,
   "metadata": {},
   "outputs": [
    {
     "name": "stdout",
     "output_type": "stream",
     "text": [
      "absence_&\n"
     ]
    }
   ],
   "source": [
    "key_ = list(bigram_phrases.vocab.keys())[144]\n",
    "print(key_)"
   ]
  },
  {
   "cell_type": "markdown",
   "metadata": {},
   "source": [
    "Le dictionnaire indique le score de cette coocurrence :"
   ]
  },
  {
   "cell_type": "code",
   "execution_count": 12,
   "metadata": {},
   "outputs": [
    {
     "data": {
      "text/plain": [
       "1"
      ]
     },
     "execution_count": 12,
     "metadata": {},
     "output_type": "execute_result"
    }
   ],
   "source": [
    "bigram_phrases.vocab[key_]"
   ]
  },
  {
   "cell_type": "markdown",
   "metadata": {},
   "source": [
    "Lorsque l'instance de `Phrases` a été entraînée, elle peut concaténer les bigrams dans les phrases lorsque c'est pertinent."
   ]
  },
  {
   "cell_type": "markdown",
   "metadata": {
    "tags": []
   },
   "source": [
    "### Conversion des `Phrases` en objet `Phraser`\n",
    "\n",
    "`Phraser` est un alias pour `gensim.models.phrases.FrozenPhrases`, voir ici https://radimrehurek.com/gensim/models/phrases.html.\n",
    "\n",
    "Le `Phraser` est une version *light* du `Phrases`, plus optimale pour transformer les phrases en concaténant les bigrams."
   ]
  },
  {
   "cell_type": "code",
   "execution_count": 13,
   "metadata": {},
   "outputs": [],
   "source": [
    "bigram_phraser = Phraser(phrases_model=bigram_phrases)"
   ]
  },
  {
   "cell_type": "markdown",
   "metadata": {},
   "source": [
    "Le `Phraser` est un objet qui convertit certains unigrams d'une liste en bigrams lorsqu'ils ont été identifiés comme pertinents."
   ]
  },
  {
   "cell_type": "markdown",
   "metadata": {},
   "source": [
    "### Extraction des trigrams"
   ]
  },
  {
   "cell_type": "markdown",
   "metadata": {},
   "source": [
    "Nous répétons l'opération en envoyant cette fois la liste de bigrams afin d'extraire les trigrams."
   ]
  },
  {
   "cell_type": "code",
   "execution_count": 14,
   "metadata": {},
   "outputs": [],
   "source": [
    "trigram_phrases = Phrases(bigram_phraser[sentences])"
   ]
  },
  {
   "cell_type": "code",
   "execution_count": 15,
   "metadata": {},
   "outputs": [],
   "source": [
    "trigram_phraser = Phraser(phrases_model=trigram_phrases)"
   ]
  },
  {
   "cell_type": "markdown",
   "metadata": {},
   "source": [
    "### Création d'un corpus d'unigrams, bigrams, trigrams"
   ]
  },
  {
   "cell_type": "code",
   "execution_count": 16,
   "metadata": {},
   "outputs": [],
   "source": [
    "corpus = list(trigram_phraser[bigram_phraser[sentences]])"
   ]
  },
  {
   "cell_type": "code",
   "execution_count": 17,
   "metadata": {},
   "outputs": [
    {
     "name": "stdout",
     "output_type": "stream",
     "text": [
      "[['v', 'i', 'l', 'l', 'e', 'de', 'bruxelles', 'bulletin', 'ires', '8eanas', 'dl', '!'], ['conseil_communal', 'annee', '1847', '.'], ['au', 'ville', 'de', 'b', 'r', 'u', 'x', 'e', 'l', 'l', 'e', 's', '.'], ['bulletin', 'conseil', 'aes', 'seances', 'communal', '.'], ['annee', '1847', '.'], ['bruxelles', ',', 'imprimerie', 'd', 'e', 'j', '.'], ['h', '.', 'b', 'r', 'i', 'a', 'r', 'd', ',', 'rite', 'n', 'e', 'u', 'v', 'e', ',', '3', '1', ',', 'faubourg', 'de', 'n', 'a', 'm', 'u', 'r', ',', '1', '84', '8', 'de', '!'], ['du', 'consei', 'dibi', 'e', '.', '-', 'communication', 'conclusions', 'de', 'la', 'section', 'des', 'du', 'nouvel_hospice', 'pour', 'les', 'av', 'enraisonde', 'l', \"'\", 'absence', '&', 'maladie', '.', 'le', 'conseil', 'ajourne', 'leurs', 'de', 'pierre', 'el', 'marchai', 'cles', 'des', 'taxes', 'communale', \"'\", 'bieniaance', 'eldeseianv', 'il', 'est', 'donne', 'communie', ';', 'mandant', 'le', 'o', 'p', 'fa', 'gnant', 'l', \"'\", 'envoi', 'de', 'leur', 'bn', 'par', 'l', \"'\", 'etat', 'obligatoire', 'p', 'secretariat', 'et', 'dtput', 'uf', 'proposition', 'dan', '*', 'le', 'meme', 'u', 'est', 'donne_lecture', 'd', \"'\", 't', 'glissement', 'd', \"'\", 'un', 'marc', '!'], [\"'*\", 'royales', ',', 'rue', 'de', 'la', 'i', 'd', 'e', 'k', ':', ';', 'i', 'fai', 'phonnenr', 'de', 'to', '>>', '<<', '<<', 'terrains', 'reumsderb', '.\"'], ['^', 'par', 'une', 'combinaison', 'f', 'sans', 'devoir', 'fe', 'soit', 'dow', 'ans', ',', 'un', 'marcs', '1', 's', 'u', 'r', 'l', 'iraocs', '.'], ['^', 'w', 'metres', 'sur', '35', 'l', ';', 'n', '^', 'espourvica', '.', 'lem', 'ed', '<<', 'l', 't', 'a', 'r', '<<<<', 'lle5la', '<<', 'compte', 'des', 'du', 'conseil', 'de', 'rendu', 'seances', 'communal', 'bruxelles', '.'], ['seance', 'du', '9', 'janvier', '.'], ['(', 'presidence', 'de', 'm', '.', 'le', 'chevalier', 'w', 'y', 'n', 's', 'de', 'raucourt', ',', 'bourgmestre', '.)'], ['sommaire', '.'], ['--', 'communication', 'de', 'pieces', '.'], ['--', 'discussion', 'et', 'adoption', 'des', 'conclusions', 'de', 'la', 'section', 'des_travaux_publics', 'relatives', 'a', 'l', \"'\", 'emplacement', 'du', 'nouvel_hospice', 'pour', 'les', 'aveugles', 'indigents', '.'], ['en', 'raison', 'de', 'l', \"'\", 'absence', 'de', 'm', '.', 'l', \"'\", 'echevin', 'doucet', ',', 'pour', 'cause', 'de', 'maladie', ',', 'le', 'conseil', 'ajourne', 'l', \"'\", 'examen', 'de', 'la', 'reclamation', 'des', 'tailleurs', 'de', 'pierre', 'et', 'marchands', 'de', 'briques', ',', 'contre', 'quelques', 'articles', 'des', 'taxes_communales', ',', 'et', 'la', 'discussion', 'des', 'budgets', 'de', 'la', 'bienfaisance', 'et', 'des', 'enfants', '-', 'trouves', '.'], ['il', 'est', 'donne_communication', 'd', \"'\", 'une', 'lettre', 'demm', '.', 'donies', ',', 'commandant', 'le', 'corps', 'des', 'pompiers', ',', 'et', 'adolphe', 'bartels', ',', 'accompagnant', 'l', \"'\", 'envoi', 'de', 'leur', 'brochure', 'relative', 'a', 'un', 'plan', 'd', \"'\", 'assurance', 'par', 'l', \"'\", 'etat', 'obligatoire', 'pour', 'tous', 'les', 'proprietaires', '.'], ['--', 'depot', 'au_secretariat', 'et', 'depot', 'sur', 'le', 'bureau', 'pendant', 'la', 'discussion', 'de', 'la', 'proposition', 'dans', 'le', 'meme', 'sens', 'faite', 'par', 'm', '.', 'le', 'conseiller', 'bartels', '.'], ['il', 'est', 'donne_lecture', 'd', \"'\", 'une', 'lettre', 'de', 'm', '.', 'bortier', ',', 'relative', 'a', 'l', \"'\", 'etablissement', 'd', \"'\", 'un', 'marche', 'dans', 'l', \"'\", 'ancien', 'local', 'des', 'messageries', 'royales', ',', 'rue', 'de', 'la', 'madeleine', '.'], ['elle', 'est', 'ainsi_concue', ':', '<<', 'j', \"'\", 'ai', 'l', \"'\", 'honneur', 'de', 'vous', 'adresser', 'un', 'plan', 'de', 'marche_couvert', 'a', 'etablir', 'sur', 'les', 'terrains', 'reunis', 'de', 'l', \"'\", 'hotel', 'des', 'messageries', ',', 'des', 'hospices', 'et', 'de', 'm', '.', 'partoes', '.'], ['par', 'une', 'combinaison_financiere', 'que_je_viens', 'vous', 'soumettre', ',', 'la', 'ville', 'de', 'bruxelles', ',', 'sans', 'devoir', 'faire', 'la', 'moindre', 'avance', 'de', 'fonds', ',', 'soit', 'pour', 'acquisitions', 'de', 'terrains', ',', 'soit', 'pour', 'constructions', ',', 'deviendrait', ',', 'au', 'bout', 'de', 'vingt_ans', ',', 'proprietaire', 'd', \"'\", 'un', 'marche', 'dont', 'le', 'produit', 'est', 'evalue', 'a', 'plus', 'de', 'soixante_mille', 'francs', '.'], ['<<', 'avant', 'la', 'mise', 'en', 'possession', 'de', 'ce', 'vaste', 'terrain', 'ayant', 'un', 'developpement', 'de', 'go', 'metres', 'sur', '33', ',', 'la', 'ville', 'pourrait', 'faire', 'construire', 'au', 'premier_etage', 'des', 'salles', 'pour', 'l', \"'\", 'academie', 'des', 'beaux', '-', 'arts', '.'], ['<<', '11', 'suffira', 'de', 'jeter', 'un', 'regard', 'sur', 'le', 'plan', 'et', 'd', \"'\", 'examiner', 'les', 'chiffres', 'qui', 'figurent', 'dans', 'l', \"'\", 'expose', ',', 'pour', 'comprendre', 'tous', 'les', 'avantages', 'que', 'presente', 'a', 'la', 'ville', 'de', 'bruxelles', 'la', 'realisation', 'de', 'ce', 'projet', '.'], ['<<', 'en', 'renvoyant', 'le', 'plan', 'a', 'la', 'commission', 'des_travaux_publics', ',', 'je_viens', 'vous_prier', ',', 'messieurs', ',', 'de', 'vouloir_bien', 'demander', 'qu', \"'\", 'un', 'rapport', 'soit', 'fait', 'immediatement', ':', 'un', 'contrat', 'me', 'lie', 'avec', 'l', \"'\", 'administration', 'des', 'hospices', '5', 'avant', 'le', '--', '2', '--', 't', 'fevrier', 'j', \"'\", 'ai', 'a', 'me', 'decider', 'sur', 'l', \"'\", 'acceptation', 'de', 'plusieurs_lots', 'de', 'terrains', 'ie', 'duquesnoy', '.'], ['11', 'est', 'donc', 'indispensable', 'que', 'la', 'ville', 'me', 'fasse_connaitre', 'sa', 'vision', 'avant', 'la', 'fin', 'du', 'mois', ',', 'sinon', 'ma_proposition', 'devra_etre', 'consideree', 'imrac', 'non', 'avenue', '.'], ['i', 'l', 'est', 'donne', 'ensuite', 'lecture', 'de', 'l', \"'\", 'expose_financier', 'de', 'l', \"'\", 'affaire', ',', 'dt', 'par', 'm', '.', 'bortier', 'dans', 'les', 'termes', 'suivans', ':', 'e', 'v', 'a', 'l', 'u', 'a', 't', 'i', 'o', 'n', 'des', 't', 'e', 'r', 'r', 'a', 'i', 'n', 's', ',', 'constructions', 'de', 'caves', 'e', 't', 'hangars', '.'], ['hotel', 'des', 'messageries', ',', 'calcule', 'sur', 'un', 'revenu', 'qui', 'a', 'ete', 'de', '12', ',', '000', 'f', 'r', '.'], [',', 'soit', '00', ',', '000', 'f', 'r', '.'], [';', 'a', 'deduire', 'de', 'cette', 'somme', 'la', 'valeur', 'de', 'deux', 'maisons_louees', ',', '000', 'f', 'r', '.'], [',', 'soit', '120', ',', '000', 'fr', '.,', 'y_compris', 'les', 'batimens', 'dans', 'la', 'cour', 'fr', '.'], ['180', ',', '000', 'terrains', 'achetes', 'a', 'l', \"'\", 'administration', 'des', 'hospices', '(', 'p', 'r', 'i', 'x', 'rachat', ')', '28', ',', '000', 'terrains', 'achetes', 'conditionnellement', 'a', 'la', 'meme', 'administraion', '(', 'prix', 'd', \"'\", 'achat', ')', '88', ',', '000', 'terrain', 'a', 'm', '.'], ['partoes', '10', ',', '000', 'constructions', 'de', 'caves', 'et', 'hangars', ',', 'p', 'r', 'i', 'x', '5', 'etablir', 'lors', 'de', \"'\", 'adjudication_publique', '(', 'devis', ')', '60', ',', '000', 'total', 'f', 'r', '.'], ['366', ',', '000', 'produit', 'du', 'm', 'a', 'r', 'c', 'h', 'e', '.'], ['1', ',', '250', 'metres', 'de', 'surface', ',', 'a', '10', 'centimes', 'par', 'metre', 'et', 'pendant', '311', 'jours', 'de', 'l', \"'\", 'annee', ',', 'donnent', 'un', 'produit', 'de', 'f', 'r', '.'], ['38', ',', '875', '1', ',', '875', 'metres', 'de', 'caves', ',', 'a', '5', 'centimes', 'par', 'metre', 'et', 'demi', ',', 'pendant', '311', 'jours', '23', ',', '325', 'total', 'f', 'r', '.'], ['62', ',', '200', 'n', '.', 'b', '.'], ['a', 'paris', ',', 'au', 'marche', 'de', 'la', 'madeleine', ',', 'ou', 'le', 'p', 'r', 'i', 'x', 'de', 'location', 'est', 'inferieur', 'a', 'celui', 'de', 'quatre', 'autres', 'marches', ',', 'le', 'metre', 'de', 'surface', 'est', 'loue', 'a', 'raison', 'de', '25', 'centimes', 'par', 'j', 'o', 'u', 'r', ',', 'dimanches', 'et', 'fetes', 'compris', '.'], ['de', 'tous', 'les', 'marches', 'de', 'p', 'a', 'r', 'i', 's', ',', 'le', 'marche', 'saint', '-', 'joseph', 'est', 'celui', 'ou', 'le', 'p', 'r', 'i', 'x', 'de', 'location', 'est', 'le', 'plus', 'eleve', ':', 'i', 'l', 'y', 'a', 'des', 'places', 'qui', 'se_louent', 'jusqu', \"'\", 'a', '6', 'f', 'r', '.'], ['les', '4', 'metres', '.'], ['depenses', '.'], ['interets', 'sur', '366', ',', '000', 'f', 'r', '.'], [',', 'a', '4', '1', '/', '2', 'p', '.'], ['c', '.', 'amortissement', 'solde', 'en', 'benefice', '.'], ['.'], ['total', '.'], ['f', 'r', '.'], ['16', ',', '470', '20', ',', '000', '25', ',', '730', 'f', 'r', '.'], ['62', ',', '200', 'recettes', '.'], ['location', 'du', 'marche', 'de', 'la', 'madeleine', '.'], ['total', '.'], ['.'], ['f', 'r', '.'], ['62', ',', '200', 'f', 'r', '.'], ['62', ',', '200', 'solde', 'en', 'benefice', ',', 'l', 'e', 'annee', 'r', 'f', 'r', '.'], ['25', ',', '730', 'resume', '.'], ['la', 'ville', 'de', 'bruxelles', ',', 'des', 'la', 'premiere_annee', ',', 'percevrait', ',', 'deduction_faite', 'des', 'interets', 'et', 'de', 'l', \"'\", 'amortissement', ',', 'la', 'somme', 'de', '25', ',', '080', 'f', 'r', '.'], [';', 'le', 'produit', 'du', 'marche', 'augmenterait', 'tous', 'les', 'ans', 'dans', 'la', 'proportion', 'de', 'la', 'reduction', 'du', 'capital', 'q', 'u', 'i', ',', 'par', 'l', \"'\", 'amortissement', 'annuel', 'de', '20', ',', '000', 'f', 'r', '.'], [',', 'se_trouvera', 'eteint', 'en', '18', 'ou', '19', 'ans', '.'], ['en', '1867', ',', 'l', 'a', 'ville', 'de', 'bruxelles', 'deviendrait_proprietaire', 'd', \"'\", 'un', 'marche', 'produisant', 'plus', 'de', 'soixante_mille', 'francs', '.'], ['--', '3', '--', 'proposition', 'de', 'm', '.'], ['bortier', 'est', 'renvoyee', 'a', 'sections', 'des_travaux_publics', 'et', 'des', 'finances', ',', 'avec', 'la', 'l', \"'\", 'examen', 'des', 'demande', 'd', \"'\", 'un', 'prompt_rapport', '.'], ['m', '.', 'le', 'secretaire_donne_lecture', 'd', 'u', 'rapport', 'de', 'l', 'a', 'section', 'des_travaux_publics', 'sur', 'l', \"'\", 'emplacement', 'de', 'l', \"'\", 'hospice', 'projete', 'pour', 'les', 'aveugles_indigens', '.'], ['m', 'u', 'le', 'college', 'a', 'communique', 'a', 'la', 'section', 'la', 'resolution_prise', 'le', '1', '5', 'decembre', 'dernier', ',', 'p', 'a', 'r', 'l', 'e', 'conseil_general', 'd', \"'\", 'administration', 'des', 'hospices', 'de', 'bruxelles', ',', 'portant', 'acceptation', 'de', 'la', 'donation', 'de', 'm', 'm', '.'], ['schuermans', 'et', 'verelst', 'p', 'o', 'u', 'r', 'l', 'a', 'construction', 'd', \"'\", 'un', 'hospice', 'destine', 'aux', 'aveugles_indigens', '.'], ['<<', 'a', 'cette', 'resolution', 'se_trouvent', 'joints', ':', '1', '<>', 'l', \"'\", 'acte', 'de', 'donation', 'modifie', 'dans', 'le', 'sens', 'de', 'la', 'deliberation', 'du', 'conseil_communal', ',', 'en', 'date', 'du', '4', 'novembre', '1', '8', '4', '6', ';', 'q', '2', 'deg', 'une', 'note', 'indiquant', 'les', 'changemens', 'apportes', 'au', 'projet', 'p', 'r', 'i', 'm', 'i', 't', 'i', 'f', 'tant', 'par', 'l', \"'\", 'administration', 'des', 'hospices', ',', 'que', 'par', 'les', 'donateurs', '.'], ['<<', 'cet', 'acte', 'a', 'fait', ',', 'messieurs', ',', 'de', 'la', 'part', 'de', 'la', 'section', ',', 'l', \"'\", 'objet', 'd', \"'\", 'un', 'examen_attentif', '.'], ['b', 'la', 'plupart', 'des', 'modifications_proposees', 'par', 'l', \"'\", 'administration', 'des', 'hospices', 'et', 'par', 'les', 'donateurs', 'sont', 'de', 'peu', 'importance', ',', 'et', 'ont', 'paru', 'de', 'nature', 'a', 'pouvoir', 'etre', 'adoptees', ';', 'seulement', 'la', 'section', 'pense', 'q', 'u', \"'\", 'i', 'l', 'conviendrait', 'de', 'changer', 'en', 'partie', 'la', 'redaction', 'du', 'SS', '2', 'de', 'l', \"'\", 'art', '.'], ['6', 'et', 'de', 'substituer', 'de', 'nouvelles_dispositions', 'a', 'celles', 'de', 'l', \"'\", 'art', '.'], ['8', 'de', 'l', \"'\", 'acte', 'de', 'donation', '.'], ['<', 'a', 'le', '2', '?'], ['SS', 'de', 'l', \"'\", 'art', '.'], ['6', 'dit', ':', '*', 'm', '.'], ['cluysenaar', ',', 'auteur', 'de', 'l', \"'\", 'avant', '-', 'projet', 'de', 'l', \"'\", 'hospice', 'a', 'construire', 'p', 'o', 'u', 'r', 'les', 'aveugles', ',', 's', \"'\", 'offranta', 'fournir_gratuitement', 'tous', 'les', 'profils', 'et', 'details', 'accessoires', 'et', 'a', 'diriger', 'les', 'travaux', 'jusqu', \"'\", 'a', 'leur', 'parfait_achevement', ',', 'le', 'conseil_communal', 'a', 'decide', 'qu', \"'\", 'au', 'cas', 'ou', 'ces', 'plans', 'seraient', 'admis', 'et', 'executes', 'sous', 'sa', 'direction', ',', 'i', 'l', 'l', 'u', 'i', 'sera', 'accorde', ',', 'etc', '.'], ['>>', '<<', 'la', 'section', 'propose', 'de', 'terminer', 'ainsi', ':', 'four', 'l', 'u', 'i', 'et', 'ses', 'descendans', ',', 'la', 'collation', 'd', \"'\", 'un', 'lit', 'dans', 'ledit', 'hospice', 'en', 'faveur', ',', 'soit', 'd', \"'\", 'un', 'membre', 'de', 'leur_famille', ',', 'belge', 'de', 'naissance', ',', 'soit', 'd', \"'\", 'un', 'aveugle', 'bruxellois', '.'], ['<<', 'l', \"'\", 'art', '.'], ['8', 'porte', ':', '<<', 'l', \"'\", 'administration', 'des', 'hospices', 'touchera', 'le', 'l', 'o', 'y', 'e', 'r', 'de', 'la', 'blanchisserie', '(', 'paye_par_anticipation', 'jusqu', \"'\", 'au', '1er', 'mars_prochain', ')', 'a', 'partir', 'de', 'cette', 'date', '.'], ['il', 'sera', 'tenu_compte', 'a', 'la', 'societe', 'du', 'produit', 'des', 'actions', 'et', 'capitaux', 'donnes', 'j', 'u', 's', 'qu', \"'\", 'a', 'leur', 'application', 'aux', 'constructions', 'susmentionnees', 'apres', 'l', \"'\", 'avance', 'c', 'o', 'n', 'venue', 'sur', 'la', 'propriete', 'de', 'la', 'blanchisserie', '.'], ['<<', '<<', 'l', 'a', 'section', 'propose', 'la', 'redaction_suivante', ':', '<<', 'a', 'r', 't', '.'], ['8', '.'], ['l', 'a', 'societe', 'de', 'philanthropie', 'j', 'o', 'u', 'i', 'r', 'a', 'des', 'revenus', ',', 'interets', 'et', 'd', 'i', 'v', 'i', 'dendes', 'des', 'actions', 'jusqu', \"'\", 'au', 'i', '>>', 'janvier', '1', '8', '4', '7', ',', 'et', 'l', \"'\", 'administration', 'des', 'hospices', 'touchera', 'les', 'loyers', 'de', 'la', 'blanchisserie', ',', 'a', 'partir', 'de', 'l', 'a', 'derniere_echeance', '.'], ['a', 'les', 'loyers', ',', 'interets', 'et', 'dividendes', 'seront', 'ajoutes', 'aux', 'capitaux', 'p', 'o', 'u', 'r', 'etre', 'appliques', 'a', 'la', 'construction', 'de', 'l', \"'\", 'hospice', ',', 'a', '^', 'moyennant', 'ce', 'changement', ',', 'i', 'l', 'y', 'aurait', 'l', 'i', 'e', 'u', ',', 'suivant', 'la', 'section', ',', 'd', \"'\", 'approuver', 'le', 'nouvel', 'acte', 'de', 'donation', 'dont', 'i', 'l', 's', \"'\", 'agit', '.'], ['<<', 'les', 'conclusions', 'que', 'la', 'section', 'des_travaux_publics', 'a', 'eu', 'l', \"'\", 'honneur', 'de', 'soumettre', 'precedemment', 'au', 'conseil_communal', 'tendaient', 'a', 'etablir', 'l', \"'\", 'hospice', 'des', 'aveugles', 'a', 'la', 'plaine', 'dite', 'du', 'remblai', '.'], ['e', 'le', 'conseil', 'a', 'ajourne', 'toute', 'decision', 'sur', 'ce', 'point', ',', 'et', 'a', 'resolu', 'que', 'la', 'question', 'serait', 'soumise', 'a', 'un', 'nouvel_examen', '.'], ['<<', 'dans', 'la', 'discussion', 'a', 'laquelle', 'ont', 'donne_lieu', 'les', 'conclusions', 'de', 'la', 'section', ',', 'un', 'membre', 'a', 'emis', 'l', \"'\", 'opinion', 'qu', \"'\", 'il', 'conviendrait', 'de', 'placer', 'ledit', 'hospice', 'au', 'boulevard', 'de', 'waterloo', ',', 'a', 'cote', 'de', 'la', 'caserne', 'de', 'gendarmerie', '.'], ['apres_avoir', 'attentivement', 'pese', 'les', 'considerations', 'qui', 'ont_ete_presentees', 'en', 'faveur', 'de', 'c', 'e', '-', '--', '4', '--', 'l', \"'\", 'emplacement', 'du', 'boulevard', 'de', 'waterloo', ',', 'la', 'section', 'des_travaux_publics', 'a', 'cru_devoir', 'maintenir', 'ses', 'conclusions', 'precedentes', 'en', 'faveur', 'de', 'remplacement', 'de', 'la', 'plaine', 'du', 'remblai', '.'], ['<<', 'dans', 'le', 'sein', 'du', 'conseil', ',', 'l', \"'\", 'honorable_membre', 'qui', 'a', 'donne', 'la', 'preference', 'aux', 'terrains', 'du', 'boulevard', 'de', 'waterloo', ',', 's', \"'\", 'est', 'appuye', 'sur', 'deux', 'motifs', ':', 'dans', 'son_opinion', ',', 'l', \"'\", 'hospice', 'devrait_etre', 'erige', 'sur', 'ces', 'terrains', ',', 'd', \"'\", 'abord', ',', 'parce', 'que', 'l', \"'\", 'on', 'pourrait', 'combiner', 'cette', 'construction', 'avec', 'les', 'travaux', 'a', 'faire', 'a', 'l', \"'\", 'hopital_saint', '-', 'pierre', ';', 'ensuite', ',', 'parce', 'que', 'differens', 'services', ',', 'tels', 'que', 'le', 'service_medical', ',', 'le', 'service', 'de', 'la', 'pharmacie', 'et', 'celui', 'des', 'vivres', 'pourraient_etre', 'communs', 'aux', 'deux', 'etablissemens', ',', 'et', 'par', 'la', 'reviendraient', 'moins', 'chers', '.'], ['<<', 'de', 'ces', 'deux', 'avantages', ',', 'le', ',', 'section', 'estime', 'que', 'le', 'premier', 'n', \"'\", 'est', 'pas', 'susceptible', 'de', 'realisation', ',', 'et', 'que', 'le', 'second', 'pourra_etre', 'obtenu', ',', 'quel', 'que', 'soit', 'celui', 'des', 'deux', 'terrains', 'ou', 'l', \"'\", 'on', 'erigera', 'l', \"'\", 'hospice', 'projete', '.'], ['<<', 'on', 'ne', 'pourrait', 'combiner', 'les', 'travaux', 'de', 'l', \"'\", 'hospice', 'avec', 'ceux', 'qu', \"'\", 'il', 'y', 'aurait', 'a', 'faire', 'a', 'l', \"'\", 'hopital_st', '.-', 'pierre', '.'], ['en', 'effet', ',', 'les', 'deux', 'etablissemens', 'seront', 'separes', 'l', \"'\", 'un', 'de', 'l', \"'\", 'autre', 'par', 'la', 'rue', 'nouvelle', ',', 'qui', 'forme', 'le', 'prolongement', ',', 'de', 'la', 'rue_aux_laines', ',', 'entre', 'la', 'caserne', 'de', 'la', 'gendarmerie', 'et', 'l', \"'\", 'hopital_st', '.-', 'pierre', '.'], ['pour', 'annexer', 'l', \"'\", 'hospice', 'des', 'aveugles', 'a', 'l', \"'\", 'hopital_st', '.-', 'pierre', ',', 'il_faudrait', 'ou', 'supprimer', 'la', 'rue', 'nouvelle', 'ou', 'lui', 'faire', 'former', 'un', 'coude', ',', 'ce', 'qui', 'rendrait', 'cette', 'voie', 'de', 'communication', 'tout', 'a', 'fait', 'moins', 'belle', 'et', 'moins', 'utile', ';', 'd', \"'\", 'ailleurs', ',', 'i', 'l', 'ne', 'faut', 'pas', 'perdre', 'de', 'vue', 'que', 'l', \"'\", 'hospice', 'des', 'aveugles', 'est', 'une', 'institution', 'speciale', 'et', 'distincte', 'des', 'etablissemens', 'de', 'l', \"'\", 'administration', 'des', 'hospices', ';', 'c', \"'\", 'est', 'la', 'societe', 'de', 'philanthrophie', 'qui', 'administrera', 'le', 'nouvel_hospice', ',', 'c', \"'\", 'est', 'elle', 'qui', 'sera', 'charge', 'de', 'l', \"'\", 'entretenir', ';', 'elle', 'y', 'aura', 'ses', 'bureaux', ';', 'les', 'locaux', 'de', 'l', \"'\", 'hospice', 'ne', 'pourront_servir', 'pour', 'les', 'besoins', 'de', 'l', \"'\", 'hopital', '.'], ['<<', '11', 'est', 'a', 'desirer', 'qu', \"'\", 'on', 'puisse', 'utiliser', ',', 'pour', 'l', \"'\", 'hospice', 'des', 'aveugles', ',', 'certains', 'services', 'de', 'l', \"'\", 'hopital_st', '.-', 'pierre', ';', 'mais', 'l', \"'\", 'etablissement', 'de', 'l', \"'\", 'hospice', 'a', 'la', 'plaine', 'du', 'remblai', 'ne', 'portera', 'pas', 'obstacle', 'a', 'cette', 'combinaison', ',', 'car', 'la', 'plaine', 'est', 'a', 'peu', 'de', 'distance', 'de', 'l', \"'\", 'hopital', ',', 'et', 'en', 'sera', 'plus_rapprochee', 'encore', ',', 'lorsque', 'la', 'rue', 'du', 'remblai', 'debouchera', 'directement', 'sur', 'la', 'rue_haute', '.'], ['la', 'section', 'prefere', 'l', \"'\", 'emplacement', 'de', 'la', 'plaine', 'de', 'remblai', 'a', 'celui', 'du', 'boulevard', 'de', 'waterloo', 'pour', 'trois', 'motifs', ':', '<<', '1', 'deg', 'parce', 'que', 'les', 'terrains', 'a', 'ceder', 'par', 'la', 'ville', 'ont', 'un', 'tiers', 'moins', 'de', 'valeur', 'a', 'la', 'plaine', 'du', 'remblai', 'qu', \"'\", 'au', 'boulevard', 'de', 'waterloo', ',', 'et', 'qu', \"'\", 'il_convient', 'de', 'restreindre_autant', 'que', 'possible', 'l', \"'\", 'etendue', 'du', 'sacrifice', 'qui', 'nous', 'est', 'demande', ';', 'a', '2', 'deg', 'parce', 'que', 'les', 'terrains', 'du', 'boulevard', 'de', 'waterloo', ',', 'a', 'raison', 'de', 'leur', 'situation', 'et', 'de', 'la', 'proximite', 'des', 'constructions_erigees', 'sur', 'ce', 'point', 'depuis', 'un', 'certain_nombre', 'd', \"'\", 'annees', ',', 'pourraient_etre', 'mis', 'en', 'vente', 'immediatement', ',', 'tandis', 'que', 'ceux', 'de', 'la', 'plaine', 'du', 'remblai', 'ne', 'pourraient', 'l', \"'\", 'etre', 'convenablement', 'que', 'dans', 'un', 'temps', 'plus', 'eloigne', '.'], ['<<', '3', 'deg', 'parce', 'que', 'la', 'construction', 'de', 'l', \"'\", 'hospice', 'a', 'la', 'plaine', 'du', 'remblai', 'embellira', 'une', 'localite', 'ou', ',', 'sans', 'cela', ',', 'on', 'ne', 'verrait', 's', \"'\", 'elever', 'd', \"'\", 'ici', 'a', 'longtemps', 'aucune', 'construction', 'quelconque', ';', '<<', 'quant', 'aux', 'fondations', 'de', 'l', \"'\", 'hospice', ',', 'elle', 'couteront', 'autant', 'au', 'boulevard', 'du', 'midi', 'qu', \"'\", 'a', 'celui', 'de', 'waterloo', ',', 'de', 'l', \"'\", 'avis', 'de', 'l', \"'\", 'architecte', ',', 'auteur', 'du', 'plan', '.'], ['par', 'ces', 'motifs', ',', 'la', 'section', 'a', 'l', \"'\", 'honneur', 'de', 'proposer', 'au', 'conseil', 'de', 'conceder', 'dans', 'la', 'plaine', 'du', 'remblai', ',', 'un', 'terrain', 'd', \"'\", 'une', 'superficie', 'd', \"'\", 'environ', '60', '.', '000', 'pieds_carres', 'pour', 'l', \"'\", 'erection', 'de', 'l', \"'\", 'hospice', 'des', 'aveugles_indigens', '.'], ['m', '.'], ['bourgeois', '.'], ['dans', 'aucun', 'des', 'rapports', 'qui', 'ont_ete', 'faits', 'au', 'conseil', 'sur', 'cette_affaire', ',', 'je', 'n', \"'\", 'ai', 'vu', 'ni', 'l', \"'\", 'estimation', 'du', 'cout', 'definitif', ',', 'ni', 'l', \"'\", 'assurance', 'que', 'la', 'donation_faite', 'a', 'la', 'sociele', 'philanlropique', 'pourra', 'suffire', 'aux', 'depenses', 'de', 'construction', 'de', 'l', \"'\", 'hospice', 'projete', '.'], ['car', 'je', 'ne', 'me', 'fie', 'guere', 'aux', 'evaluations', 'des', '--', '5', '--', 'architectes', ',', 'auxquelles', 'i', 'l', 'faut', 'toujours', 'ajouter', 'sinon', 'la', 'moitie', ',', 'au', 'moins', 'le', 'tiers', 'je_voudrais', 'avoir', 'a', 'ce', 'sujet', 'quelques', 'donnees', '.'], ['m', 'le', 'president', '.']]\n"
     ]
    }
   ],
   "source": [
    "print(corpus[:100])"
   ]
  },
  {
   "cell_type": "markdown",
   "metadata": {},
   "source": [
    "## Entrainement d'un modèle Word2Vec sur ce corpus"
   ]
  },
  {
   "cell_type": "code",
   "execution_count": 19,
   "metadata": {},
   "outputs": [
    {
     "name": "stdout",
     "output_type": "stream",
     "text": [
      "Wall time: 18min 3s\n"
     ]
    }
   ],
   "source": [
    "%%time\n",
    "model = Word2Vec(\n",
    "    corpus, # On passe le corpus de ngrams que nous venons de créer\n",
    "    vector_size=32, # Le nombre de dimensions dans lesquelles le contexte des mots devra être réduit, aka. vector_size\n",
    "    window=7, # La taille du \"contexte\", ici 7 mots avant et après le mot observé\n",
    "    min_count=8, # On ignore les mots qui n'apparaissent pas au moins 8 fois dans le corpus\n",
    "    workers=7, # Permet de paralléliser l'entraînement du modèle en 7 threads\n",
    "    epochs=10 # Nombre d'itérations du réseau de neurones sur le jeu de données pour ajuster les paramètres avec la descente de gradient, aka. epochs.\n",
    ")"
   ]
  },
  {
   "cell_type": "markdown",
   "metadata": {},
   "source": [
    "#### Remarque\n",
    "\n",
    "Vous voyez ici que l'entrainement du modèle est parallélisé (sur 4 workers).\n",
    "\n",
    "Lors qu'on parallélise l'entrainement du modèle, 4 modèles \"séparés\" sont entrainés sur environ un quart des phrases.\n",
    "\n",
    "Ensuite, les résultats sont agrégés pour ne plus faire qu'un seul modèle.\n",
    "\n",
    "On ne peut prédire quel worker aura quelle phrase, car il y a des aléas lors de la parallélisation (p. ex. un worker qui serait plus lent, etc.).\n",
    "\n",
    "Du coup, les valeurs peuvent varier légèrement d'un entrainement à l'autre.\n",
    "\n",
    "Mais, globalement, les résultats restent cohérents."
   ]
  },
  {
   "cell_type": "markdown",
   "metadata": {},
   "source": [
    "### Sauver le modèle dans un fichier"
   ]
  },
  {
   "cell_type": "code",
   "execution_count": 20,
   "metadata": {},
   "outputs": [],
   "source": [
    "outfile = f\"../data/bulletins.model\"\n",
    "model.save(outfile)"
   ]
  },
  {
   "cell_type": "markdown",
   "metadata": {},
   "source": [
    "## Explorer le modèle"
   ]
  },
  {
   "cell_type": "markdown",
   "metadata": {},
   "source": [
    "### Charger le modèle en mémoire"
   ]
  },
  {
   "cell_type": "code",
   "execution_count": 21,
   "metadata": {},
   "outputs": [],
   "source": [
    "model = Word2Vec.load(\"../data/bulletins.model\")"
   ]
  },
  {
   "cell_type": "markdown",
   "metadata": {},
   "source": [
    "### Imprimer le vecteur d'un terme"
   ]
  },
  {
   "cell_type": "code",
   "execution_count": 22,
   "metadata": {},
   "outputs": [
    {
     "data": {
      "text/plain": [
       "array([-0.29372084, -1.5874983 ,  0.5330467 , -3.236728  ,  3.2322814 ,\n",
       "       -0.31938538, -0.4957626 , -5.2077017 , -1.8687315 ,  0.41362235,\n",
       "       -0.63060856,  3.899956  , -0.9532764 , -1.8735356 , -3.1135814 ,\n",
       "        0.6198733 ,  0.70543337, -3.0493968 , -0.33508727,  5.789568  ,\n",
       "       -3.1298292 ,  1.4993435 , -4.9810114 , -0.30542746,  2.700672  ,\n",
       "       -3.0675228 ,  2.03131   ,  1.3053306 , -2.637705  ,  1.7026607 ,\n",
       "       -2.9327235 , -1.450557  ], dtype=float32)"
      ]
     },
     "execution_count": 22,
     "metadata": {},
     "output_type": "execute_result"
    }
   ],
   "source": [
    "model.wv[\"communal\"]"
   ]
  },
  {
   "cell_type": "markdown",
   "metadata": {},
   "source": [
    "### Calculer la similarité entre deux termes"
   ]
  },
  {
   "cell_type": "code",
   "execution_count": 23,
   "metadata": {},
   "outputs": [
    {
     "data": {
      "text/plain": [
       "0.08173706"
      ]
     },
     "execution_count": 23,
     "metadata": {},
     "output_type": "execute_result"
    }
   ],
   "source": [
    "model.wv.similarity(\"guerre\", \"affront\")"
   ]
  },
  {
   "cell_type": "code",
   "execution_count": 43,
   "metadata": {},
   "outputs": [
    {
     "data": {
      "text/plain": [
       "0.24953263"
      ]
     },
     "execution_count": 43,
     "metadata": {},
     "output_type": "execute_result"
    }
   ],
   "source": [
    "model.wv.similarity(\"reunion\", \"rassemblement\")"
   ]
  },
  {
   "cell_type": "code",
   "execution_count": 27,
   "metadata": {},
   "outputs": [
    {
     "data": {
      "text/plain": [
       "0.7001949"
      ]
     },
     "execution_count": 27,
     "metadata": {},
     "output_type": "execute_result"
    }
   ],
   "source": [
    "model.wv.similarity(\"compte_rendu\", \"rapport\")"
   ]
  },
  {
   "cell_type": "code",
   "execution_count": 28,
   "metadata": {},
   "outputs": [
    {
     "data": {
      "text/plain": [
       "0.6601823"
      ]
     },
     "execution_count": 28,
     "metadata": {},
     "output_type": "execute_result"
    }
   ],
   "source": [
    "model.wv.similarity(\"communication\", \"discussion\")"
   ]
  },
  {
   "cell_type": "markdown",
   "metadata": {},
   "source": [
    "### Chercher les mots les plus proches d'un terme donné"
   ]
  },
  {
   "cell_type": "code",
   "execution_count": 30,
   "metadata": {},
   "outputs": [
    {
     "data": {
      "text/plain": [
       "[('liberation', 0.8125290274620056),\n",
       " ('guerre_1914', 0.8074050545692444),\n",
       " ('derniere_guerre', 0.7764146327972412),\n",
       " ('saison_rigoureuse', 0.7540931105613708),\n",
       " ('guerre_1940', 0.7517023682594299),\n",
       " ('belle_saison', 0.7486646771430969),\n",
       " ('catastrophe', 0.7481759190559387),\n",
       " ('offensive', 0.742493748664856),\n",
       " ('occupation_ennemie', 0.7331636548042297),\n",
       " ('armistice', 0.7154025435447693)]"
      ]
     },
     "execution_count": 30,
     "metadata": {},
     "output_type": "execute_result"
    }
   ],
   "source": [
    "model.wv.most_similar(\"guerre\", topn=10)"
   ]
  },
  {
   "cell_type": "markdown",
   "metadata": {},
   "source": [
    "### Faire des recherches complexes à travers l'espace vectoriel"
   ]
  },
  {
   "cell_type": "code",
   "execution_count": 37,
   "metadata": {},
   "outputs": [
    {
     "name": "stdout",
     "output_type": "stream",
     "text": [
      "[('liege', 0.777077853679657), ('paris', 0.7389369010925293), ('des_communes_limitrophes', 0.7351052165031433), ('nivelles', 0.7159520983695984), ('considere_comme_officiel', 0.7132326364517212), ('huy', 0.6994673609733582), ('zurich', 0.6934635639190674), ('tournai', 0.6914360523223877), ('lille', 0.6889315843582153), ('gand', 0.6845430731773376)]\n"
     ]
    }
   ],
   "source": [
    "print(model.wv.most_similar(positive=['bruxelles', 'belgique'], negative=['berlin']))"
   ]
  },
  {
   "cell_type": "code",
   "execution_count": 32,
   "metadata": {},
   "outputs": [
    {
     "name": "stdout",
     "output_type": "stream",
     "text": [
      "[('brigadier', 0.8280032873153687), ('electricien', 0.8221893906593323), ('mecanicien', 0.817107081413269), ('veilleur', 0.8105605840682983), ('messager', 0.8059177398681641), ('auxiliaire', 0.8009390234947205), ('hors_cadre', 0.8004975318908691), ('cuisinier', 0.7982432842254639), ('appariteur', 0.7982327342033386), ('souschef', 0.7909530997276306)]\n"
     ]
    }
   ],
   "source": [
    "print(model.wv.most_similar(positive=['femme', 'garcon'], negative=['fille']))"
   ]
  },
  {
   "cell_type": "code",
   "execution_count": 38,
   "metadata": {},
   "outputs": [
    {
     "name": "stdout",
     "output_type": "stream",
     "text": [
      "[('diable', 0.7236782908439636), ('drapeau_belge', 0.6787086725234985), ('bassin_vergote', 0.6669045090675354), ('point_central', 0.6636160016059875), ('fameux', 0.6602479815483093), ('debarque', 0.6561887264251709), ('ciel', 0.6503894925117493), ('vent', 0.6467048525810242), ('vieux_marche', 0.6431757211685181), ('pare', 0.6422905921936035)]\n"
     ]
    }
   ],
   "source": [
    "print(model.wv.most_similar(positive=['jeune', 'vieux'], negative=['adolescent']))"
   ]
  },
  {
   "cell_type": "code",
   "execution_count": 40,
   "metadata": {},
   "outputs": [
    {
     "name": "stdout",
     "output_type": "stream",
     "text": [
      "[('document', 0.8600643277168274), ('rapporl', 0.8220008611679077), ('questionnaire', 0.8081603646278381), ('texte', 0.7981006503105164), ('raisonnement', 0.7963005304336548), ('syndicat_ouvrier', 0.7935992479324341), ('tableau', 0.7772511839866638), ('projet_elabore', 0.7726174592971802), ('preambule', 0.7663066983222961), ('plan', 0.7649213075637817)]\n"
     ]
    }
   ],
   "source": [
    "print(model.wv.most_similar(positive=['journal', 'rapport'], negative=['revue']))"
   ]
  },
  {
   "cell_type": "code",
   "execution_count": null,
   "metadata": {},
   "outputs": [],
   "source": []
  },
  {
   "cell_type": "code",
   "execution_count": null,
   "metadata": {},
   "outputs": [],
   "source": []
  },
  {
   "cell_type": "code",
   "execution_count": null,
   "metadata": {},
   "outputs": [],
   "source": []
  },
  {
   "cell_type": "code",
   "execution_count": null,
   "metadata": {},
   "outputs": [],
   "source": []
  },
  {
   "cell_type": "code",
   "execution_count": null,
   "metadata": {},
   "outputs": [],
   "source": []
  }
 ],
 "metadata": {
  "kernelspec": {
   "display_name": "Python 3 (ipykernel)",
   "language": "python",
   "name": "python3"
  },
  "language_info": {
   "codemirror_mode": {
    "name": "ipython",
    "version": 3
   },
   "file_extension": ".py",
   "mimetype": "text/x-python",
   "name": "python",
   "nbconvert_exporter": "python",
   "pygments_lexer": "ipython3",
   "version": "3.9.9"
  }
 },
 "nbformat": 4,
 "nbformat_minor": 4
}
