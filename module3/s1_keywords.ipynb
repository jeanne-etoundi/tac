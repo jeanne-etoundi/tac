{
 "cells": [
  {
   "cell_type": "markdown",
   "metadata": {},
   "source": [
    "# Extraction de Keywords"
   ]
  },
  {
   "cell_type": "markdown",
   "metadata": {},
   "source": [
    "## Imports"
   ]
  },
  {
   "cell_type": "code",
   "execution_count": 62,
   "metadata": {},
   "outputs": [],
   "source": [
    "import os\n",
    "import yake"
   ]
  },
  {
   "cell_type": "markdown",
   "metadata": {},
   "source": [
    "## Extraire les mots clés d'un document avec Yake"
   ]
  },
  {
   "cell_type": "markdown",
   "metadata": {},
   "source": [
    "https://github.com/LIAAD/yake"
   ]
  },
  {
   "cell_type": "code",
   "execution_count": 63,
   "metadata": {
    "tags": []
   },
   "outputs": [
    {
     "data": {
      "text/plain": [
       "{'bruxelles', 'conseil communal', 'conseil général'}"
      ]
     },
     "execution_count": 63,
     "metadata": {},
     "output_type": "execute_result"
    }
   ],
   "source": [
    "# Création d'une liste de mots à ignorer\n",
    "ignored = set([\"conseil communal\", \"conseil général\",\"bruxelles\"])\n",
    "ignored"
   ]
  },
  {
   "cell_type": "code",
   "execution_count": 64,
   "metadata": {},
   "outputs": [
    {
     "data": {
      "text/plain": [
       "<yake.yake.KeywordExtractor at 0x7f031d9a4850>"
      ]
     },
     "execution_count": 64,
     "metadata": {},
     "output_type": "execute_result"
    }
   ],
   "source": [
    "# Instantier l'extracteur de mots clés\n",
    "kw_extractor = yake.KeywordExtractor(lan=\"fr\", top=50)\n",
    "kw_extractor"
   ]
  },
  {
   "cell_type": "code",
   "execution_count": 65,
   "metadata": {},
   "outputs": [],
   "source": [
    "# Lister les Fichiers\n",
    "data_path = \"../data/txt/\"\n",
    "files = os.listdir(data_path)"
   ]
  },
  {
   "cell_type": "code",
   "execution_count": 66,
   "metadata": {},
   "outputs": [
    {
     "data": {
      "text/plain": [
       "2828"
      ]
     },
     "execution_count": 66,
     "metadata": {},
     "output_type": "execute_result"
    }
   ],
   "source": [
    "# Imprimer le nombre de fichiers identifiés\n",
    "len(files)"
   ]
  },
  {
   "cell_type": "code",
   "execution_count": 67,
   "metadata": {},
   "outputs": [
    {
     "data": {
      "text/plain": [
       "['Bxl_1847_Tome_I1_Part_1.txt',\n",
       " 'Bxl_1847_Tome_I1_Part_2.txt',\n",
       " 'Bxl_1847_Tome_I1_Part_3.txt',\n",
       " 'Bxl_1847_Tome_I1_Part_4.txt',\n",
       " 'Bxl_1847_Tome_I1_Part_5.txt',\n",
       " 'Bxl_1848_Tome_I1_Part_1.txt',\n",
       " 'Bxl_1848_Tome_I1_Part_2.txt',\n",
       " 'Bxl_1848_Tome_I1_Part_3.txt',\n",
       " 'Bxl_1849_Tome_I1_Part_1.txt',\n",
       " 'Bxl_1849_Tome_I1_Part_2.txt',\n",
       " 'Bxl_1849_Tome_I1_Part_3.txt',\n",
       " 'Bxl_1849_Tome_I1_Part_4.txt',\n",
       " 'Bxl_1849_Tome_I1_Part_5.txt',\n",
       " 'Bxl_1849_Tome_II1_Part_1.txt',\n",
       " 'Bxl_1849_Tome_II1_Part_2.txt',\n",
       " 'Bxl_1849_Tome_II1_Part_3.txt',\n",
       " 'Bxl_1849_Tome_II1_Part_4.txt',\n",
       " 'Bxl_1849_Tome_II1_Part_5.txt',\n",
       " 'Bxl_1849_Tome_II1_Part_6.txt',\n",
       " 'Bxl_1849_Tome_II1_Part_7.txt']"
      ]
     },
     "execution_count": 67,
     "metadata": {},
     "output_type": "execute_result"
    }
   ],
   "source": [
    "# Les dix premiers fichiers\n",
    "files[:20]"
   ]
  },
  {
   "cell_type": "code",
   "execution_count": 68,
   "metadata": {},
   "outputs": [
    {
     "data": {
      "text/plain": [
       "2677"
      ]
     },
     "execution_count": 68,
     "metadata": {},
     "output_type": "execute_result"
    }
   ],
   "source": [
    "# Enlever les fichiers qui ne commencent pas par Bxl_\n",
    "bxl_files = [f for f in files if f.startswith('Bxl_')]\n",
    "len(bxl_files)"
   ]
  },
  {
   "cell_type": "code",
   "execution_count": 69,
   "metadata": {},
   "outputs": [
    {
     "data": {
      "text/plain": [
       "'Bxl_1978_Tome_II1_Part_10.txt'"
      ]
     },
     "execution_count": 69,
     "metadata": {},
     "output_type": "execute_result"
    }
   ],
   "source": [
    "# Choisir un fichier\n",
    "this_file = bxl_files[2655]\n",
    "this_file"
   ]
  },
  {
   "cell_type": "code",
   "execution_count": 70,
   "metadata": {},
   "outputs": [
    {
     "data": {
      "text/plain": [
       "\"—\\n\\n893 —\\n\\n(20 novembre\\n\\n1978)\\n\\nje pense avoir été bien clair. j'ai déclaré en effet qu'il\\nfallait souhaiter une approbation unanime du principe d'une\\nrénovation urbaine, et jamais qu'il ne fallait rien faire.\\npar contre, les déclarations de m\\nl'echevin me confirment\\ndans le sentiment qu'on continue à jouer avec des bouts de\\nficelles, si j'ose m'exprimer ainsi, alors qu'il aurait été beaucoup plus facile et possible d'élaborer un projet de p . p . a . et\\nun plan financier global pour cette opérat\""
      ]
     },
     "execution_count": 70,
     "metadata": {},
     "output_type": "execute_result"
    }
   ],
   "source": [
    "# Récupérer le texte du fichier\n",
    "text = open(os.path.join(data_path, this_file), 'r').read()\n",
    "#text[:500]\n",
    "text.lower()[:500]"
   ]
  },
  {
   "cell_type": "code",
   "execution_count": 71,
   "metadata": {},
   "outputs": [],
   "source": [
    "# Extraire les mots clés de ce texte\n",
    "keywords = kw_extractor.extract_keywords(text)"
   ]
  },
  {
   "cell_type": "code",
   "execution_count": 73,
   "metadata": {},
   "outputs": [
    {
     "data": {
      "text/plain": [
       "\"—\\n\\n893 —\\n\\n(20 novembre\\n\\n1978)\\n\\nje pense avoir été bien clair. j'ai déclaré en effet qu'il\\nfallait souhaiter une approbation unanime du principe d'une\\nrénovation urbaine, et jamais qu'il ne fallait rien faire.\\npar contre, les déclarations de m\\nl'echevin me confirment\\ndans le sentiment qu'on continue à jouer avec des bouts de\\nficelles, si j'ose m'exprimer ainsi, alors qu'il aurait été beaucoup plus facile et possible d'élaborer un projet de p . p . a . et\\nun plan financier global pour cette opérat\""
      ]
     },
     "execution_count": 73,
     "metadata": {},
     "output_type": "execute_result"
    }
   ],
   "source": [
    "keywords\n",
    "text.lower()[:500]"
   ]
  },
  {
   "cell_type": "code",
   "execution_count": 74,
   "metadata": {},
   "outputs": [
    {
     "data": {
      "text/plain": [
       "['école maternelle',\n",
       " 'école primaire',\n",
       " \"d'une école\",\n",
       " 'écoles maternelles',\n",
       " \"Construction d'une\",\n",
       " \"l'Echevin Klein\",\n",
       " 'séance publique']"
      ]
     },
     "execution_count": 74,
     "metadata": {},
     "output_type": "execute_result"
    }
   ],
   "source": [
    "# Ne garder que les bigrammes\n",
    "kept = []\n",
    "for kw, score in keywords:\n",
    "    words = kw.split()\n",
    "    if len(words) == 2 and kw.lower() not in ignored:\n",
    "        kept.append(kw)\n",
    "kept"
   ]
  },
  {
   "cell_type": "markdown",
   "metadata": {},
   "source": [
    "## Faire la même opération sur tous les documents"
   ]
  },
  {
   "cell_type": "code",
   "execution_count": 75,
   "metadata": {},
   "outputs": [
    {
     "name": "stdout",
     "output_type": "stream",
     "text": [
      "Bxl_1871_Tome_II1_Part_2.txt mentions these keywords: THÉÂTRE ROYAL, rue Haute, REPRÉSENTATION GRATUITE, travaux publics, Travaux d'assainissement, voie publique, Société royale, rue Terre-Neuve...\n",
      "Bxl_1871_Tome_II1_Part_3.txt mentions these keywords: d'une somme, travaux publics, Nombre Nombre, l'Echevin Lemaieur, don d'une, l'adjudication publique...\n",
      "Bxl_1871_Tome_II1_Part_4.txt mentions these keywords: l'Echevin Fontainas, l'Echevin Lemaieur, l'Echevin Orts, BULLETIN COMMUNAL, Bochart qu'il...\n",
      "Bxl_1871_Tome_II1_Part_5.txt mentions these keywords: travaux publics, l'Echevin Lemaieur, rue Haute, l'Echevin Funck, crois qu'il, Bourgmestre C'est...\n",
      "Bxl_1871_Tome_II1_Part_6.txt mentions these keywords: l'Echevin Funck, l'Echevin Lemaieur, l'Echevin Fontainas, qu'il faut...\n",
      "Bxl_1871_Tome_II1_Part_7.txt mentions these keywords: Compagnie anglaise, l'Echevin Orts, travaux publics, l'Echevin Fontainas, Compagnie concessionnaire, Collège pourra, L'Administration communale...\n",
      "Bxl_1871_Tome_II1_Part_8.txt mentions these keywords: Conseiller communal, Voir Terrains, Bulletin communal, d'un crédit, Voir Conseil, Voir Canal...\n",
      "Bxl_1872_Tome_I1_Part_1.txt mentions these keywords: travaux publics, boulevard Central, l'Echevin Lemaieur, rue Haute, rue Granvelle, rue Blaes, boulevard Barthélémy, l'adjudication publique...\n",
      "Bxl_1872_Tome_I1_Part_2.txt mentions these keywords: volume d'eau, mètres cubes, enfants trouvés, travaux publics, Distribution d'eau, d'une ville...\n",
      "Bxl_1872_Tome_I1_Part_3.txt mentions these keywords: Députation permanente, École communale, l'Echevin Funck, l'enseignement primaire, l'Echevin Lemaieur, l'Echevin Fontainas...\n"
     ]
    }
   ],
   "source": [
    "for f in sorted(bxl_files)[230:240]:\n",
    "    text = open(os.path.join(data_path, f), 'r').read()\n",
    "    keywords = kw_extractor.extract_keywords(text)\n",
    "    kept = []\n",
    "    for kw, score in keywords:\n",
    "        words = kw.split()\n",
    "        if len(words) == 2 and kw.lower() not in ignored:\n",
    "            kept.append(kw)\n",
    "    print(f\"{f} mentions these keywords: {', '.join(kept)}...\")"
   ]
  },
  {
   "cell_type": "code",
   "execution_count": null,
   "metadata": {},
   "outputs": [],
   "source": []
  },
  {
   "cell_type": "code",
   "execution_count": null,
   "metadata": {},
   "outputs": [],
   "source": []
  }
 ],
 "metadata": {
  "kernelspec": {
   "display_name": "Python 3 (ipykernel)",
   "language": "python",
   "name": "python3"
  },
  "language_info": {
   "codemirror_mode": {
    "name": "ipython",
    "version": 3
   },
   "file_extension": ".py",
   "mimetype": "text/x-python",
   "name": "python",
   "nbconvert_exporter": "python",
   "pygments_lexer": "ipython3",
   "version": "3.9.7"
  }
 },
 "nbformat": 4,
 "nbformat_minor": 4
}
